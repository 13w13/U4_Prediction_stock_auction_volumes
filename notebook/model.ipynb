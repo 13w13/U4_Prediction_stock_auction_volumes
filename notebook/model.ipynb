{
 "cells": [
  {
   "cell_type": "code",
   "execution_count": null,
   "metadata": {},
   "outputs": [],
   "source": [
    "pip install -U scikit-learn"
   ]
  },
  {
   "cell_type": "code",
   "execution_count": 2,
   "metadata": {},
   "outputs": [],
   "source": [
    "import pandas as pd\n",
    "import numpy as np\n",
    "import os\n",
    "import glob\n",
    "import matplotlib.pyplot as plt\n",
    "import seaborn as sns\n",
    "from sklearn.model_selection import TimeSeriesSplit"
   ]
  },
  {
   "cell_type": "code",
   "execution_count": 3,
   "metadata": {},
   "outputs": [],
   "source": [
    "data_dir  = \"../dataset\""
   ]
  },
  {
   "cell_type": "code",
   "execution_count": 4,
   "metadata": {},
   "outputs": [
    {
     "data": {
      "text/plain": [
       "['../dataset\\\\x_test.csv',\n",
       " '../dataset\\\\x_train.csv',\n",
       " '../dataset\\\\y_train.csv']"
      ]
     },
     "execution_count": 4,
     "metadata": {},
     "output_type": "execute_result"
    }
   ],
   "source": [
    "data_list = glob.glob(os.path.join(data_dir, '**.csv'))\n",
    "data_list"
   ]
  },
  {
   "cell_type": "code",
   "execution_count": 5,
   "metadata": {},
   "outputs": [],
   "source": [
    "id_col = 'ID'\n",
    "target_col = \"target\""
   ]
  },
  {
   "cell_type": "code",
   "execution_count": 6,
   "metadata": {},
   "outputs": [],
   "source": [
    "y_train = pd.read_csv(\"%s/y_train.csv\" % data_dir, sep=\",\")\n",
    "x_train= pd.read_csv(\"%s/x_train.csv\" % data_dir, sep=\",\")\n",
    "x_test=pd.read_csv(\"%s/x_test.csv\" % data_dir, sep=\",\")"
   ]
  },
  {
   "cell_type": "code",
   "execution_count": null,
   "metadata": {},
   "outputs": [],
   "source": [
    "train_df  = y_train.merge(x_train, on=\"ID\")"
   ]
  },
  {
   "cell_type": "code",
   "execution_count": null,
   "metadata": {},
   "outputs": [],
   "source": [
    "train_df.head()"
   ]
  },
  {
   "cell_type": "code",
   "execution_count": 7,
   "metadata": {},
   "outputs": [
    {
     "ename": "NameError",
     "evalue": "name 'train_df' is not defined",
     "output_type": "error",
     "traceback": [
      "\u001b[1;31m---------------------------------------------------------------------------\u001b[0m",
      "\u001b[1;31mNameError\u001b[0m                                 Traceback (most recent call last)",
      "\u001b[1;32m<ipython-input-7-846e464c574b>\u001b[0m in \u001b[0;36m<module>\u001b[1;34m\u001b[0m\n\u001b[1;32m----> 1\u001b[1;33m \u001b[0mreturn_cols\u001b[0m \u001b[1;33m=\u001b[0m \u001b[1;33m[\u001b[0m\u001b[0mc\u001b[0m \u001b[1;32mfor\u001b[0m \u001b[0mc\u001b[0m \u001b[1;32min\u001b[0m \u001b[0mtrain_df\u001b[0m\u001b[1;33m.\u001b[0m\u001b[0mcolumns\u001b[0m \u001b[1;32mif\u001b[0m \u001b[0mc\u001b[0m\u001b[1;33m.\u001b[0m\u001b[0mstartswith\u001b[0m\u001b[1;33m(\u001b[0m\u001b[1;34m\"abs_ret\"\u001b[0m\u001b[1;33m)\u001b[0m\u001b[1;33m]\u001b[0m\u001b[1;33m\u001b[0m\u001b[1;33m\u001b[0m\u001b[0m\n\u001b[0m\u001b[0;32m      2\u001b[0m \u001b[0mvolume_cols\u001b[0m \u001b[1;33m=\u001b[0m \u001b[1;33m[\u001b[0m\u001b[0mc\u001b[0m \u001b[1;32mfor\u001b[0m \u001b[0mc\u001b[0m \u001b[1;32min\u001b[0m \u001b[0mtrain_df\u001b[0m\u001b[1;33m.\u001b[0m\u001b[0mcolumns\u001b[0m \u001b[1;32mif\u001b[0m \u001b[0mc\u001b[0m\u001b[1;33m.\u001b[0m\u001b[0mstartswith\u001b[0m\u001b[1;33m(\u001b[0m\u001b[1;34m\"rel_vol\"\u001b[0m\u001b[1;33m)\u001b[0m\u001b[1;33m]\u001b[0m\u001b[1;33m\u001b[0m\u001b[1;33m\u001b[0m\u001b[0m\n\u001b[0;32m      3\u001b[0m \u001b[0mdate_col\u001b[0m \u001b[1;33m=\u001b[0m \u001b[1;33m[\u001b[0m\u001b[1;34m\"day\"\u001b[0m\u001b[1;33m]\u001b[0m\u001b[1;33m\u001b[0m\u001b[1;33m\u001b[0m\u001b[0m\n\u001b[0;32m      4\u001b[0m \u001b[0mprod_id_col\u001b[0m\u001b[1;33m=\u001b[0m\u001b[1;33m[\u001b[0m\u001b[1;34m\"pid\"\u001b[0m\u001b[1;33m]\u001b[0m\u001b[1;33m\u001b[0m\u001b[1;33m\u001b[0m\u001b[0m\n\u001b[0;32m      5\u001b[0m \u001b[0mother_cols\u001b[0m \u001b[1;33m=\u001b[0m \u001b[1;33m[\u001b[0m\u001b[1;34m\"LS\"\u001b[0m \u001b[1;33m,\u001b[0m \u001b[1;34m\"NLV\"\u001b[0m\u001b[1;33m]\u001b[0m\u001b[1;33m\u001b[0m\u001b[1;33m\u001b[0m\u001b[0m\n",
      "\u001b[1;31mNameError\u001b[0m: name 'train_df' is not defined"
     ]
    }
   ],
   "source": [
    "return_cols = [c for c in train_df.columns if c.startswith(\"abs_ret\")]\n",
    "volume_cols = [c for c in train_df.columns if c.startswith(\"rel_vol\")]\n",
    "date_col = [\"day\"]\n",
    "prod_id_col=[\"pid\"]\n",
    "other_cols = [\"LS\" , \"NLV\"]"
   ]
  },
  {
   "cell_type": "code",
   "execution_count": null,
   "metadata": {},
   "outputs": [],
   "source": [
    "train_df.describe()"
   ]
  },
  {
   "cell_type": "code",
   "execution_count": null,
   "metadata": {},
   "outputs": [],
   "source": [
    "x_test"
   ]
  },
  {
   "cell_type": "code",
   "execution_count": null,
   "metadata": {},
   "outputs": [],
   "source": [
    "# Let's analyze stock number 1\n",
    "stock_1 = train_df.loc[train_df['pid'] == 1]\n",
    "stock_1"
   ]
  },
  {
   "cell_type": "code",
   "execution_count": null,
   "metadata": {},
   "outputs": [],
   "source": [
    "stock_1.info()"
   ]
  },
  {
   "cell_type": "code",
   "execution_count": null,
   "metadata": {},
   "outputs": [],
   "source": [
    "#stock_1.loc[:, 'day'] = pd.to_datetime(stock_1.loc[:,'day'], format=\"%Y/%m/%d\")"
   ]
  },
  {
   "cell_type": "code",
   "execution_count": null,
   "metadata": {},
   "outputs": [],
   "source": [
    "# Simple plotting of Stock1\n",
    "# First Subplot\n",
    "f, (ax1, ax2) = plt.subplots(1, 2, figsize=(14,5))\n",
    "ax1.plot(stock_1[\"day\"], stock_1[\"abs_ret0\"])\n",
    "ax1.set_xlabel(\"Date\", fontsize=12)\n",
    "ax1.set_ylabel(\"Abs_ret\")\n",
    "ax1.set_title(\"Stock1 Abs_return Var 0 & Abs-Vol over days\")\n",
    "# Second Subplot\n",
    "ax1.plot(stock_1[\"day\"], stock_1[\"rel_vol0\"], color=\"green\")\n",
    "ax1.set_xlabel(\"Date\", fontsize=12)\n",
    "ax1.set_ylabel(\"Abs_Vol0\")\n",
    "ax1.set_title(\"Stock1 Abs_return Var 0 & Abs-Vol over days\")\n",
    "\n",
    "# Fourth Subplot\n",
    "ax2.plot(stock_1[\"abs_ret0\"], stock_1[\"day\"], color=\"orange\")\n",
    "ax2.set_xlabel(\"Date\", fontsize=12)\n",
    "ax2.set_ylabel(\"Stock Price\")\n",
    "ax2.set_title(\"Stock1 Abs_vol Var 0 over days\")\n",
    "plt.show()\n"
   ]
  },
  {
   "cell_type": "markdown",
   "metadata": {},
   "source": [
    "Var during one day of return & Vol"
   ]
  },
  {
   "cell_type": "markdown",
   "metadata": {},
   "source": [
    "2 sol : index with time vector or long format"
   ]
  },
  {
   "cell_type": "code",
   "execution_count": null,
   "metadata": {},
   "outputs": [],
   "source": [
    "l = [i for i in range(60)]"
   ]
  },
  {
   "cell_type": "code",
   "execution_count": null,
   "metadata": {},
   "outputs": [],
   "source": [
    "# Let's analyze stock number 1\n",
    "stock_1_day1 = stock_1.loc[stock_1['day'] == 0]\n",
    "stock_1_day1"
   ]
  },
  {
   "cell_type": "code",
   "execution_count": null,
   "metadata": {},
   "outputs": [],
   "source": [
    "f, (ax1, ax2) = plt.subplots(1, 2, figsize=(14,5))\n",
    "ax1.plot(l, stock_1[\"abs_ret0\"])\n",
    "ax1.set_xlabel(\"Date\", fontsize=12)\n",
    "ax1.set_ylabel(\"Abs_ret\")\n",
    "ax1.set_title(\"Stock1 Abs_return Var 0 & Abs-Vol over days\")"
   ]
  },
  {
   "cell_type": "markdown",
   "metadata": {},
   "source": [
    "Quick strating kit"
   ]
  },
  {
   "cell_type": "code",
   "execution_count": null,
   "metadata": {},
   "outputs": [],
   "source": [
    "train_df.isnull().sum(axis=1)"
   ]
  },
  {
   "cell_type": "code",
   "execution_count": null,
   "metadata": {},
   "outputs": [],
   "source": [
    "x_test.isnull().sum(axis=1)"
   ]
  },
  {
   "cell_type": "markdown",
   "metadata": {},
   "source": [
    "Interpoloate nan"
   ]
  },
  {
   "cell_type": "code",
   "execution_count": null,
   "metadata": {},
   "outputs": [],
   "source": [
    "#x_train.iloc[:,3:] = x_train.iloc[:,3:].interpolate(axis=1)\n",
    "#x_test.iloc[:,3:]  = x_test.iloc[:,3:].interpolate(axis=1)"
   ]
  },
  {
   "cell_type": "code",
   "execution_count": null,
   "metadata": {},
   "outputs": [],
   "source": [
    "x_test.isnull().sum(axis=1)"
   ]
  },
  {
   "cell_type": "code",
   "execution_count": null,
   "metadata": {},
   "outputs": [],
   "source": [
    "np.any(np.isnan(x_train))"
   ]
  },
  {
   "cell_type": "code",
   "execution_count": null,
   "metadata": {},
   "outputs": [],
   "source": [
    "np.all(np.isfinite(x_train))"
   ]
  },
  {
   "cell_type": "code",
   "execution_count": 8,
   "metadata": {},
   "outputs": [],
   "source": [
    "x_train.fillna(0, inplace=True) \n",
    "x_test.fillna(0, inplace=True)"
   ]
  },
  {
   "cell_type": "markdown",
   "metadata": {},
   "source": [
    "## Feature engineering"
   ]
  },
  {
   "cell_type": "markdown",
   "metadata": {},
   "source": [
    "Create basic feature"
   ]
  },
  {
   "cell_type": "code",
   "execution_count": 9,
   "metadata": {},
   "outputs": [],
   "source": [
    "x_train['min_ret']    = np.min(x_train.iloc[:,3:63], axis=1)\n",
    "x_train['max_ret']    = np.max(x_train.iloc[:,3:63], axis=1)\n",
    "x_train['std_ret']    = np.std(x_train.iloc[:,3:63], axis=1)\n",
    "x_train['median_ret'] = np.median(x_train.iloc[:,3:63], axis=1)"
   ]
  },
  {
   "cell_type": "code",
   "execution_count": 10,
   "metadata": {},
   "outputs": [],
   "source": [
    "x_test['min_ret']    = np.min(x_test.iloc[:,3:63], axis=1)\n",
    "x_test['max_ret']    = np.max(x_test.iloc[:,3:63], axis=1)\n",
    "x_test['std_ret']    = np.std(x_test.iloc[:,3:63], axis=1)\n",
    "x_test['median_ret'] = np.median(x_test.iloc[:,3:63], axis=1)"
   ]
  },
  {
   "cell_type": "code",
   "execution_count": 11,
   "metadata": {},
   "outputs": [],
   "source": [
    "x_train['min_vol']    = np.min(x_train.iloc[:,64:125], axis=1)\n",
    "x_train['max_vol']    = np.max(x_train.iloc[:,64:125], axis=1)\n",
    "x_train['std_vol']    = np.std(x_train.iloc[:,64:125], axis=1)\n",
    "x_train['median_vol'] = np.median(x_train.iloc[:,64:125], axis=1)"
   ]
  },
  {
   "cell_type": "code",
   "execution_count": 12,
   "metadata": {},
   "outputs": [],
   "source": [
    "x_test['min_vol']    = np.min(x_test.iloc[:,64:125], axis=1)\n",
    "x_test['max_vol']    = np.max(x_test.iloc[:,64:125], axis=1)\n",
    "x_test['std_vol']    = np.std(x_test.iloc[:,64:125], axis=1)\n",
    "x_test['median_vol'] = np.median(x_test.iloc[:,64:125], axis=1)"
   ]
  },
  {
   "cell_type": "markdown",
   "metadata": {},
   "source": [
    "Validation"
   ]
  },
  {
   "cell_type": "code",
   "execution_count": 13,
   "metadata": {},
   "outputs": [],
   "source": [
    "def Error(y_true, y_pred): \n",
    "    return np.square(y_true - y_pred)"
   ]
  },
  {
   "cell_type": "code",
   "execution_count": 14,
   "metadata": {},
   "outputs": [],
   "source": [
    "def MSE(y_true, y_pred): \n",
    "    return np.square(y_true - y_pred)"
   ]
  },
  {
   "cell_type": "code",
   "execution_count": 15,
   "metadata": {},
   "outputs": [],
   "source": [
    "from sklearn.model_selection import train_test_split\n",
    "\n",
    "train_df  = y_train.merge(x_train, on=\"ID\")\n",
    "train_df.drop(['ID', 'pid'], axis=1, inplace=True)\n",
    "\n",
    "train_X_, test_X_, train_y_, test_y_ = train_test_split(train_df.iloc[:,1:], train_df['target'], test_size=0.2, random_state=42)"
   ]
  },
  {
   "cell_type": "code",
   "execution_count": null,
   "metadata": {
    "scrolled": true
   },
   "outputs": [],
   "source": [
    "!pip install delayed"
   ]
  },
  {
   "cell_type": "code",
   "execution_count": 16,
   "metadata": {},
   "outputs": [],
   "source": [
    "import delayed"
   ]
  },
  {
   "cell_type": "code",
   "execution_count": 17,
   "metadata": {},
   "outputs": [
    {
     "data": {
      "text/plain": [
       "LinearRegression()"
      ]
     },
     "execution_count": 17,
     "metadata": {},
     "output_type": "execute_result"
    }
   ],
   "source": [
    "from sklearn.linear_model import LinearRegression\n",
    "\n",
    "regrLinWeighted = LinearRegression()\n",
    "regrLinWeighted.fit(train_X_, train_y_)"
   ]
  },
  {
   "cell_type": "code",
   "execution_count": 18,
   "metadata": {},
   "outputs": [],
   "source": [
    "test_X_['predict'] = regrLinWeighted.predict(test_X_)"
   ]
  },
  {
   "cell_type": "code",
   "execution_count": 19,
   "metadata": {},
   "outputs": [],
   "source": [
    "from sklearn.metrics import mean_squared_error"
   ]
  },
  {
   "cell_type": "code",
   "execution_count": null,
   "metadata": {},
   "outputs": [],
   "source": [
    "(mean_squared_error(test_y_, predictions))"
   ]
  },
  {
   "cell_type": "code",
   "execution_count": 20,
   "metadata": {},
   "outputs": [],
   "source": [
    "test_y_=pd.DataFrame(test_y_)"
   ]
  },
  {
   "cell_type": "code",
   "execution_count": 21,
   "metadata": {},
   "outputs": [],
   "source": [
    "test_X_['error']=test_y_[\"target\"] - test_X_['predict']"
   ]
  },
  {
   "cell_type": "code",
   "execution_count": null,
   "metadata": {},
   "outputs": [],
   "source": [
    "test_X_"
   ]
  },
  {
   "cell_type": "code",
   "execution_count": 22,
   "metadata": {
    "scrolled": true
   },
   "outputs": [
    {
     "data": {
      "text/html": [
       "<div>\n",
       "<style scoped>\n",
       "    .dataframe tbody tr th:only-of-type {\n",
       "        vertical-align: middle;\n",
       "    }\n",
       "\n",
       "    .dataframe tbody tr th {\n",
       "        vertical-align: top;\n",
       "    }\n",
       "\n",
       "    .dataframe thead th {\n",
       "        text-align: right;\n",
       "    }\n",
       "</style>\n",
       "<table border=\"1\" class=\"dataframe\">\n",
       "  <thead>\n",
       "    <tr style=\"text-align: right;\">\n",
       "      <th></th>\n",
       "      <th>day</th>\n",
       "      <th>abs_ret0</th>\n",
       "      <th>abs_ret1</th>\n",
       "      <th>abs_ret2</th>\n",
       "      <th>abs_ret3</th>\n",
       "      <th>abs_ret4</th>\n",
       "      <th>abs_ret5</th>\n",
       "      <th>abs_ret6</th>\n",
       "      <th>abs_ret7</th>\n",
       "      <th>abs_ret8</th>\n",
       "      <th>...</th>\n",
       "      <th>NLV</th>\n",
       "      <th>min_ret</th>\n",
       "      <th>max_ret</th>\n",
       "      <th>std_ret</th>\n",
       "      <th>median_ret</th>\n",
       "      <th>min_vol</th>\n",
       "      <th>max_vol</th>\n",
       "      <th>std_vol</th>\n",
       "      <th>median_vol</th>\n",
       "      <th>predict</th>\n",
       "    </tr>\n",
       "  </thead>\n",
       "  <tbody>\n",
       "    <tr>\n",
       "      <th>99589</th>\n",
       "      <td>41</td>\n",
       "      <td>0.000000</td>\n",
       "      <td>0.000000</td>\n",
       "      <td>0.327869</td>\n",
       "      <td>0.000000</td>\n",
       "      <td>0.000000</td>\n",
       "      <td>0.000000</td>\n",
       "      <td>0.000000</td>\n",
       "      <td>0.072464</td>\n",
       "      <td>0.018067</td>\n",
       "      <td>...</td>\n",
       "      <td>-1.453430</td>\n",
       "      <td>0.0</td>\n",
       "      <td>0.327869</td>\n",
       "      <td>0.061653</td>\n",
       "      <td>0.000000</td>\n",
       "      <td>0.000000</td>\n",
       "      <td>0.095894</td>\n",
       "      <td>0.020351</td>\n",
       "      <td>0.007550</td>\n",
       "      <td>-1.859037</td>\n",
       "    </tr>\n",
       "    <tr>\n",
       "      <th>535740</th>\n",
       "      <td>587</td>\n",
       "      <td>0.479781</td>\n",
       "      <td>0.205128</td>\n",
       "      <td>0.000000</td>\n",
       "      <td>0.306748</td>\n",
       "      <td>0.119760</td>\n",
       "      <td>0.034165</td>\n",
       "      <td>0.136565</td>\n",
       "      <td>0.034072</td>\n",
       "      <td>0.068236</td>\n",
       "      <td>...</td>\n",
       "      <td>-0.430984</td>\n",
       "      <td>0.0</td>\n",
       "      <td>0.479781</td>\n",
       "      <td>0.094186</td>\n",
       "      <td>0.068143</td>\n",
       "      <td>0.005014</td>\n",
       "      <td>0.030123</td>\n",
       "      <td>0.006028</td>\n",
       "      <td>0.015041</td>\n",
       "      <td>-1.276157</td>\n",
       "    </tr>\n",
       "    <tr>\n",
       "      <th>228479</th>\n",
       "      <td>230</td>\n",
       "      <td>0.709849</td>\n",
       "      <td>0.719741</td>\n",
       "      <td>0.590842</td>\n",
       "      <td>0.000000</td>\n",
       "      <td>0.587027</td>\n",
       "      <td>0.118099</td>\n",
       "      <td>0.118343</td>\n",
       "      <td>0.029595</td>\n",
       "      <td>0.265487</td>\n",
       "      <td>...</td>\n",
       "      <td>-0.133514</td>\n",
       "      <td>0.0</td>\n",
       "      <td>0.719741</td>\n",
       "      <td>0.162341</td>\n",
       "      <td>0.089339</td>\n",
       "      <td>0.001066</td>\n",
       "      <td>0.070583</td>\n",
       "      <td>0.010798</td>\n",
       "      <td>0.013650</td>\n",
       "      <td>-1.999648</td>\n",
       "    </tr>\n",
       "    <tr>\n",
       "      <th>214338</th>\n",
       "      <td>396</td>\n",
       "      <td>0.606290</td>\n",
       "      <td>0.151573</td>\n",
       "      <td>0.037836</td>\n",
       "      <td>0.113550</td>\n",
       "      <td>0.037893</td>\n",
       "      <td>0.151400</td>\n",
       "      <td>0.113723</td>\n",
       "      <td>0.113636</td>\n",
       "      <td>0.304183</td>\n",
       "      <td>...</td>\n",
       "      <td>-1.226465</td>\n",
       "      <td>0.0</td>\n",
       "      <td>0.606290</td>\n",
       "      <td>0.116823</td>\n",
       "      <td>0.075873</td>\n",
       "      <td>0.000000</td>\n",
       "      <td>0.059053</td>\n",
       "      <td>0.013184</td>\n",
       "      <td>0.012316</td>\n",
       "      <td>-1.750885</td>\n",
       "    </tr>\n",
       "    <tr>\n",
       "      <th>242520</th>\n",
       "      <td>302</td>\n",
       "      <td>0.680760</td>\n",
       "      <td>0.036088</td>\n",
       "      <td>0.144456</td>\n",
       "      <td>0.108186</td>\n",
       "      <td>0.036023</td>\n",
       "      <td>0.072072</td>\n",
       "      <td>0.000000</td>\n",
       "      <td>0.216216</td>\n",
       "      <td>0.251527</td>\n",
       "      <td>...</td>\n",
       "      <td>0.166484</td>\n",
       "      <td>0.0</td>\n",
       "      <td>0.680760</td>\n",
       "      <td>0.099468</td>\n",
       "      <td>0.071416</td>\n",
       "      <td>0.003962</td>\n",
       "      <td>0.064501</td>\n",
       "      <td>0.012081</td>\n",
       "      <td>0.011202</td>\n",
       "      <td>-2.089311</td>\n",
       "    </tr>\n",
       "    <tr>\n",
       "      <th>...</th>\n",
       "      <td>...</td>\n",
       "      <td>...</td>\n",
       "      <td>...</td>\n",
       "      <td>...</td>\n",
       "      <td>...</td>\n",
       "      <td>...</td>\n",
       "      <td>...</td>\n",
       "      <td>...</td>\n",
       "      <td>...</td>\n",
       "      <td>...</td>\n",
       "      <td>...</td>\n",
       "      <td>...</td>\n",
       "      <td>...</td>\n",
       "      <td>...</td>\n",
       "      <td>...</td>\n",
       "      <td>...</td>\n",
       "      <td>...</td>\n",
       "      <td>...</td>\n",
       "      <td>...</td>\n",
       "      <td>...</td>\n",
       "      <td>...</td>\n",
       "    </tr>\n",
       "    <tr>\n",
       "      <th>409873</th>\n",
       "      <td>494</td>\n",
       "      <td>0.042680</td>\n",
       "      <td>0.288215</td>\n",
       "      <td>0.203797</td>\n",
       "      <td>0.042740</td>\n",
       "      <td>0.053430</td>\n",
       "      <td>0.032134</td>\n",
       "      <td>0.053539</td>\n",
       "      <td>0.064212</td>\n",
       "      <td>0.032086</td>\n",
       "      <td>...</td>\n",
       "      <td>0.072834</td>\n",
       "      <td>0.0</td>\n",
       "      <td>0.299369</td>\n",
       "      <td>0.064919</td>\n",
       "      <td>0.043201</td>\n",
       "      <td>0.001552</td>\n",
       "      <td>0.072420</td>\n",
       "      <td>0.013117</td>\n",
       "      <td>0.013906</td>\n",
       "      <td>-1.614390</td>\n",
       "    </tr>\n",
       "    <tr>\n",
       "      <th>675991</th>\n",
       "      <td>720</td>\n",
       "      <td>0.643777</td>\n",
       "      <td>0.086393</td>\n",
       "      <td>0.259403</td>\n",
       "      <td>0.172488</td>\n",
       "      <td>0.086096</td>\n",
       "      <td>0.301984</td>\n",
       "      <td>0.086543</td>\n",
       "      <td>0.216450</td>\n",
       "      <td>0.217014</td>\n",
       "      <td>...</td>\n",
       "      <td>-1.119516</td>\n",
       "      <td>0.0</td>\n",
       "      <td>0.643777</td>\n",
       "      <td>0.142153</td>\n",
       "      <td>0.131781</td>\n",
       "      <td>0.000000</td>\n",
       "      <td>0.203502</td>\n",
       "      <td>0.028475</td>\n",
       "      <td>0.008158</td>\n",
       "      <td>-1.337233</td>\n",
       "    </tr>\n",
       "    <tr>\n",
       "      <th>5086</th>\n",
       "      <td>54</td>\n",
       "      <td>0.163979</td>\n",
       "      <td>0.164249</td>\n",
       "      <td>0.027518</td>\n",
       "      <td>0.055036</td>\n",
       "      <td>0.082667</td>\n",
       "      <td>0.054945</td>\n",
       "      <td>0.054840</td>\n",
       "      <td>0.054840</td>\n",
       "      <td>0.054855</td>\n",
       "      <td>...</td>\n",
       "      <td>0.378673</td>\n",
       "      <td>0.0</td>\n",
       "      <td>0.164249</td>\n",
       "      <td>0.035694</td>\n",
       "      <td>0.027304</td>\n",
       "      <td>0.002358</td>\n",
       "      <td>0.071608</td>\n",
       "      <td>0.012897</td>\n",
       "      <td>0.012157</td>\n",
       "      <td>-1.971190</td>\n",
       "    </tr>\n",
       "    <tr>\n",
       "      <th>146514</th>\n",
       "      <td>378</td>\n",
       "      <td>0.480293</td>\n",
       "      <td>0.037936</td>\n",
       "      <td>0.030326</td>\n",
       "      <td>0.128798</td>\n",
       "      <td>0.030246</td>\n",
       "      <td>0.801573</td>\n",
       "      <td>0.180126</td>\n",
       "      <td>0.086460</td>\n",
       "      <td>0.334851</td>\n",
       "      <td>...</td>\n",
       "      <td>1.747052</td>\n",
       "      <td>0.0</td>\n",
       "      <td>0.801573</td>\n",
       "      <td>0.144624</td>\n",
       "      <td>0.113016</td>\n",
       "      <td>0.005106</td>\n",
       "      <td>0.051718</td>\n",
       "      <td>0.008015</td>\n",
       "      <td>0.014423</td>\n",
       "      <td>-2.289628</td>\n",
       "    </tr>\n",
       "    <tr>\n",
       "      <th>227682</th>\n",
       "      <td>177</td>\n",
       "      <td>0.757986</td>\n",
       "      <td>0.327243</td>\n",
       "      <td>0.410397</td>\n",
       "      <td>0.082736</td>\n",
       "      <td>0.883734</td>\n",
       "      <td>0.334448</td>\n",
       "      <td>0.250000</td>\n",
       "      <td>0.418293</td>\n",
       "      <td>0.084128</td>\n",
       "      <td>...</td>\n",
       "      <td>0.124452</td>\n",
       "      <td>0.0</td>\n",
       "      <td>0.883734</td>\n",
       "      <td>0.212797</td>\n",
       "      <td>0.179548</td>\n",
       "      <td>0.002809</td>\n",
       "      <td>0.108424</td>\n",
       "      <td>0.015898</td>\n",
       "      <td>0.011437</td>\n",
       "      <td>-2.265689</td>\n",
       "    </tr>\n",
       "  </tbody>\n",
       "</table>\n",
       "<p>136897 rows × 134 columns</p>\n",
       "</div>"
      ],
      "text/plain": [
       "        day  abs_ret0  abs_ret1  abs_ret2  abs_ret3  abs_ret4  abs_ret5  \\\n",
       "99589    41  0.000000  0.000000  0.327869  0.000000  0.000000  0.000000   \n",
       "535740  587  0.479781  0.205128  0.000000  0.306748  0.119760  0.034165   \n",
       "228479  230  0.709849  0.719741  0.590842  0.000000  0.587027  0.118099   \n",
       "214338  396  0.606290  0.151573  0.037836  0.113550  0.037893  0.151400   \n",
       "242520  302  0.680760  0.036088  0.144456  0.108186  0.036023  0.072072   \n",
       "...     ...       ...       ...       ...       ...       ...       ...   \n",
       "409873  494  0.042680  0.288215  0.203797  0.042740  0.053430  0.032134   \n",
       "675991  720  0.643777  0.086393  0.259403  0.172488  0.086096  0.301984   \n",
       "5086     54  0.163979  0.164249  0.027518  0.055036  0.082667  0.054945   \n",
       "146514  378  0.480293  0.037936  0.030326  0.128798  0.030246  0.801573   \n",
       "227682  177  0.757986  0.327243  0.410397  0.082736  0.883734  0.334448   \n",
       "\n",
       "        abs_ret6  abs_ret7  abs_ret8  ...       NLV  min_ret   max_ret  \\\n",
       "99589   0.000000  0.072464  0.018067  ... -1.453430      0.0  0.327869   \n",
       "535740  0.136565  0.034072  0.068236  ... -0.430984      0.0  0.479781   \n",
       "228479  0.118343  0.029595  0.265487  ... -0.133514      0.0  0.719741   \n",
       "214338  0.113723  0.113636  0.304183  ... -1.226465      0.0  0.606290   \n",
       "242520  0.000000  0.216216  0.251527  ...  0.166484      0.0  0.680760   \n",
       "...          ...       ...       ...  ...       ...      ...       ...   \n",
       "409873  0.053539  0.064212  0.032086  ...  0.072834      0.0  0.299369   \n",
       "675991  0.086543  0.216450  0.217014  ... -1.119516      0.0  0.643777   \n",
       "5086    0.054840  0.054840  0.054855  ...  0.378673      0.0  0.164249   \n",
       "146514  0.180126  0.086460  0.334851  ...  1.747052      0.0  0.801573   \n",
       "227682  0.250000  0.418293  0.084128  ...  0.124452      0.0  0.883734   \n",
       "\n",
       "         std_ret  median_ret   min_vol   max_vol   std_vol  median_vol  \\\n",
       "99589   0.061653    0.000000  0.000000  0.095894  0.020351    0.007550   \n",
       "535740  0.094186    0.068143  0.005014  0.030123  0.006028    0.015041   \n",
       "228479  0.162341    0.089339  0.001066  0.070583  0.010798    0.013650   \n",
       "214338  0.116823    0.075873  0.000000  0.059053  0.013184    0.012316   \n",
       "242520  0.099468    0.071416  0.003962  0.064501  0.012081    0.011202   \n",
       "...          ...         ...       ...       ...       ...         ...   \n",
       "409873  0.064919    0.043201  0.001552  0.072420  0.013117    0.013906   \n",
       "675991  0.142153    0.131781  0.000000  0.203502  0.028475    0.008158   \n",
       "5086    0.035694    0.027304  0.002358  0.071608  0.012897    0.012157   \n",
       "146514  0.144624    0.113016  0.005106  0.051718  0.008015    0.014423   \n",
       "227682  0.212797    0.179548  0.002809  0.108424  0.015898    0.011437   \n",
       "\n",
       "         predict  \n",
       "99589  -1.859037  \n",
       "535740 -1.276157  \n",
       "228479 -1.999648  \n",
       "214338 -1.750885  \n",
       "242520 -2.089311  \n",
       "...          ...  \n",
       "409873 -1.614390  \n",
       "675991 -1.337233  \n",
       "5086   -1.971190  \n",
       "146514 -2.289628  \n",
       "227682 -2.265689  \n",
       "\n",
       "[136897 rows x 134 columns]"
      ]
     },
     "execution_count": 22,
     "metadata": {},
     "output_type": "execute_result"
    }
   ],
   "source": [
    "test_X_.iloc[:,0:134]"
   ]
  },
  {
   "cell_type": "code",
   "execution_count": 23,
   "metadata": {},
   "outputs": [],
   "source": [
    "test_X_reset = test_X_.copy()"
   ]
  },
  {
   "cell_type": "code",
   "execution_count": 24,
   "metadata": {},
   "outputs": [
    {
     "data": {
      "text/html": [
       "<div>\n",
       "<style scoped>\n",
       "    .dataframe tbody tr th:only-of-type {\n",
       "        vertical-align: middle;\n",
       "    }\n",
       "\n",
       "    .dataframe tbody tr th {\n",
       "        vertical-align: top;\n",
       "    }\n",
       "\n",
       "    .dataframe thead th {\n",
       "        text-align: right;\n",
       "    }\n",
       "</style>\n",
       "<table border=\"1\" class=\"dataframe\">\n",
       "  <thead>\n",
       "    <tr style=\"text-align: right;\">\n",
       "      <th></th>\n",
       "      <th>day</th>\n",
       "      <th>abs_ret0</th>\n",
       "      <th>abs_ret1</th>\n",
       "      <th>abs_ret2</th>\n",
       "      <th>abs_ret3</th>\n",
       "      <th>abs_ret4</th>\n",
       "      <th>abs_ret5</th>\n",
       "      <th>abs_ret6</th>\n",
       "      <th>abs_ret7</th>\n",
       "      <th>abs_ret8</th>\n",
       "      <th>...</th>\n",
       "      <th>min_ret</th>\n",
       "      <th>max_ret</th>\n",
       "      <th>std_ret</th>\n",
       "      <th>median_ret</th>\n",
       "      <th>min_vol</th>\n",
       "      <th>max_vol</th>\n",
       "      <th>std_vol</th>\n",
       "      <th>median_vol</th>\n",
       "      <th>predict</th>\n",
       "      <th>error</th>\n",
       "    </tr>\n",
       "  </thead>\n",
       "  <tbody>\n",
       "    <tr>\n",
       "      <th>0</th>\n",
       "      <td>41</td>\n",
       "      <td>0.000000</td>\n",
       "      <td>0.000000</td>\n",
       "      <td>0.327869</td>\n",
       "      <td>0.000000</td>\n",
       "      <td>0.000000</td>\n",
       "      <td>0.000000</td>\n",
       "      <td>0.000000</td>\n",
       "      <td>0.072464</td>\n",
       "      <td>0.018067</td>\n",
       "      <td>...</td>\n",
       "      <td>0.0</td>\n",
       "      <td>0.327869</td>\n",
       "      <td>0.061653</td>\n",
       "      <td>0.000000</td>\n",
       "      <td>0.000000</td>\n",
       "      <td>0.095894</td>\n",
       "      <td>0.020351</td>\n",
       "      <td>0.007550</td>\n",
       "      <td>-1.859037</td>\n",
       "      <td>0.498510</td>\n",
       "    </tr>\n",
       "    <tr>\n",
       "      <th>1</th>\n",
       "      <td>587</td>\n",
       "      <td>0.479781</td>\n",
       "      <td>0.205128</td>\n",
       "      <td>0.000000</td>\n",
       "      <td>0.306748</td>\n",
       "      <td>0.119760</td>\n",
       "      <td>0.034165</td>\n",
       "      <td>0.136565</td>\n",
       "      <td>0.034072</td>\n",
       "      <td>0.068236</td>\n",
       "      <td>...</td>\n",
       "      <td>0.0</td>\n",
       "      <td>0.479781</td>\n",
       "      <td>0.094186</td>\n",
       "      <td>0.068143</td>\n",
       "      <td>0.005014</td>\n",
       "      <td>0.030123</td>\n",
       "      <td>0.006028</td>\n",
       "      <td>0.015041</td>\n",
       "      <td>-1.276157</td>\n",
       "      <td>0.196941</td>\n",
       "    </tr>\n",
       "    <tr>\n",
       "      <th>2</th>\n",
       "      <td>230</td>\n",
       "      <td>0.709849</td>\n",
       "      <td>0.719741</td>\n",
       "      <td>0.590842</td>\n",
       "      <td>0.000000</td>\n",
       "      <td>0.587027</td>\n",
       "      <td>0.118099</td>\n",
       "      <td>0.118343</td>\n",
       "      <td>0.029595</td>\n",
       "      <td>0.265487</td>\n",
       "      <td>...</td>\n",
       "      <td>0.0</td>\n",
       "      <td>0.719741</td>\n",
       "      <td>0.162341</td>\n",
       "      <td>0.089339</td>\n",
       "      <td>0.001066</td>\n",
       "      <td>0.070583</td>\n",
       "      <td>0.010798</td>\n",
       "      <td>0.013650</td>\n",
       "      <td>-1.999648</td>\n",
       "      <td>-0.336535</td>\n",
       "    </tr>\n",
       "    <tr>\n",
       "      <th>3</th>\n",
       "      <td>396</td>\n",
       "      <td>0.606290</td>\n",
       "      <td>0.151573</td>\n",
       "      <td>0.037836</td>\n",
       "      <td>0.113550</td>\n",
       "      <td>0.037893</td>\n",
       "      <td>0.151400</td>\n",
       "      <td>0.113723</td>\n",
       "      <td>0.113636</td>\n",
       "      <td>0.304183</td>\n",
       "      <td>...</td>\n",
       "      <td>0.0</td>\n",
       "      <td>0.606290</td>\n",
       "      <td>0.116823</td>\n",
       "      <td>0.075873</td>\n",
       "      <td>0.000000</td>\n",
       "      <td>0.059053</td>\n",
       "      <td>0.013184</td>\n",
       "      <td>0.012316</td>\n",
       "      <td>-1.750885</td>\n",
       "      <td>1.911004</td>\n",
       "    </tr>\n",
       "    <tr>\n",
       "      <th>4</th>\n",
       "      <td>302</td>\n",
       "      <td>0.680760</td>\n",
       "      <td>0.036088</td>\n",
       "      <td>0.144456</td>\n",
       "      <td>0.108186</td>\n",
       "      <td>0.036023</td>\n",
       "      <td>0.072072</td>\n",
       "      <td>0.000000</td>\n",
       "      <td>0.216216</td>\n",
       "      <td>0.251527</td>\n",
       "      <td>...</td>\n",
       "      <td>0.0</td>\n",
       "      <td>0.680760</td>\n",
       "      <td>0.099468</td>\n",
       "      <td>0.071416</td>\n",
       "      <td>0.003962</td>\n",
       "      <td>0.064501</td>\n",
       "      <td>0.012081</td>\n",
       "      <td>0.011202</td>\n",
       "      <td>-2.089311</td>\n",
       "      <td>-0.393732</td>\n",
       "    </tr>\n",
       "    <tr>\n",
       "      <th>...</th>\n",
       "      <td>...</td>\n",
       "      <td>...</td>\n",
       "      <td>...</td>\n",
       "      <td>...</td>\n",
       "      <td>...</td>\n",
       "      <td>...</td>\n",
       "      <td>...</td>\n",
       "      <td>...</td>\n",
       "      <td>...</td>\n",
       "      <td>...</td>\n",
       "      <td>...</td>\n",
       "      <td>...</td>\n",
       "      <td>...</td>\n",
       "      <td>...</td>\n",
       "      <td>...</td>\n",
       "      <td>...</td>\n",
       "      <td>...</td>\n",
       "      <td>...</td>\n",
       "      <td>...</td>\n",
       "      <td>...</td>\n",
       "      <td>...</td>\n",
       "    </tr>\n",
       "    <tr>\n",
       "      <th>136892</th>\n",
       "      <td>494</td>\n",
       "      <td>0.042680</td>\n",
       "      <td>0.288215</td>\n",
       "      <td>0.203797</td>\n",
       "      <td>0.042740</td>\n",
       "      <td>0.053430</td>\n",
       "      <td>0.032134</td>\n",
       "      <td>0.053539</td>\n",
       "      <td>0.064212</td>\n",
       "      <td>0.032086</td>\n",
       "      <td>...</td>\n",
       "      <td>0.0</td>\n",
       "      <td>0.299369</td>\n",
       "      <td>0.064919</td>\n",
       "      <td>0.043201</td>\n",
       "      <td>0.001552</td>\n",
       "      <td>0.072420</td>\n",
       "      <td>0.013117</td>\n",
       "      <td>0.013906</td>\n",
       "      <td>-1.614390</td>\n",
       "      <td>-0.350081</td>\n",
       "    </tr>\n",
       "    <tr>\n",
       "      <th>136893</th>\n",
       "      <td>720</td>\n",
       "      <td>0.643777</td>\n",
       "      <td>0.086393</td>\n",
       "      <td>0.259403</td>\n",
       "      <td>0.172488</td>\n",
       "      <td>0.086096</td>\n",
       "      <td>0.301984</td>\n",
       "      <td>0.086543</td>\n",
       "      <td>0.216450</td>\n",
       "      <td>0.217014</td>\n",
       "      <td>...</td>\n",
       "      <td>0.0</td>\n",
       "      <td>0.643777</td>\n",
       "      <td>0.142153</td>\n",
       "      <td>0.131781</td>\n",
       "      <td>0.000000</td>\n",
       "      <td>0.203502</td>\n",
       "      <td>0.028475</td>\n",
       "      <td>0.008158</td>\n",
       "      <td>-1.337233</td>\n",
       "      <td>-1.358559</td>\n",
       "    </tr>\n",
       "    <tr>\n",
       "      <th>136894</th>\n",
       "      <td>54</td>\n",
       "      <td>0.163979</td>\n",
       "      <td>0.164249</td>\n",
       "      <td>0.027518</td>\n",
       "      <td>0.055036</td>\n",
       "      <td>0.082667</td>\n",
       "      <td>0.054945</td>\n",
       "      <td>0.054840</td>\n",
       "      <td>0.054840</td>\n",
       "      <td>0.054855</td>\n",
       "      <td>...</td>\n",
       "      <td>0.0</td>\n",
       "      <td>0.164249</td>\n",
       "      <td>0.035694</td>\n",
       "      <td>0.027304</td>\n",
       "      <td>0.002358</td>\n",
       "      <td>0.071608</td>\n",
       "      <td>0.012897</td>\n",
       "      <td>0.012157</td>\n",
       "      <td>-1.971190</td>\n",
       "      <td>0.779151</td>\n",
       "    </tr>\n",
       "    <tr>\n",
       "      <th>136895</th>\n",
       "      <td>378</td>\n",
       "      <td>0.480293</td>\n",
       "      <td>0.037936</td>\n",
       "      <td>0.030326</td>\n",
       "      <td>0.128798</td>\n",
       "      <td>0.030246</td>\n",
       "      <td>0.801573</td>\n",
       "      <td>0.180126</td>\n",
       "      <td>0.086460</td>\n",
       "      <td>0.334851</td>\n",
       "      <td>...</td>\n",
       "      <td>0.0</td>\n",
       "      <td>0.801573</td>\n",
       "      <td>0.144624</td>\n",
       "      <td>0.113016</td>\n",
       "      <td>0.005106</td>\n",
       "      <td>0.051718</td>\n",
       "      <td>0.008015</td>\n",
       "      <td>0.014423</td>\n",
       "      <td>-2.289628</td>\n",
       "      <td>-0.080319</td>\n",
       "    </tr>\n",
       "    <tr>\n",
       "      <th>136896</th>\n",
       "      <td>177</td>\n",
       "      <td>0.757986</td>\n",
       "      <td>0.327243</td>\n",
       "      <td>0.410397</td>\n",
       "      <td>0.082736</td>\n",
       "      <td>0.883734</td>\n",
       "      <td>0.334448</td>\n",
       "      <td>0.250000</td>\n",
       "      <td>0.418293</td>\n",
       "      <td>0.084128</td>\n",
       "      <td>...</td>\n",
       "      <td>0.0</td>\n",
       "      <td>0.883734</td>\n",
       "      <td>0.212797</td>\n",
       "      <td>0.179548</td>\n",
       "      <td>0.002809</td>\n",
       "      <td>0.108424</td>\n",
       "      <td>0.015898</td>\n",
       "      <td>0.011437</td>\n",
       "      <td>-2.265689</td>\n",
       "      <td>-0.038436</td>\n",
       "    </tr>\n",
       "  </tbody>\n",
       "</table>\n",
       "<p>136897 rows × 135 columns</p>\n",
       "</div>"
      ],
      "text/plain": [
       "        day  abs_ret0  abs_ret1  abs_ret2  abs_ret3  abs_ret4  abs_ret5  \\\n",
       "0        41  0.000000  0.000000  0.327869  0.000000  0.000000  0.000000   \n",
       "1       587  0.479781  0.205128  0.000000  0.306748  0.119760  0.034165   \n",
       "2       230  0.709849  0.719741  0.590842  0.000000  0.587027  0.118099   \n",
       "3       396  0.606290  0.151573  0.037836  0.113550  0.037893  0.151400   \n",
       "4       302  0.680760  0.036088  0.144456  0.108186  0.036023  0.072072   \n",
       "...     ...       ...       ...       ...       ...       ...       ...   \n",
       "136892  494  0.042680  0.288215  0.203797  0.042740  0.053430  0.032134   \n",
       "136893  720  0.643777  0.086393  0.259403  0.172488  0.086096  0.301984   \n",
       "136894   54  0.163979  0.164249  0.027518  0.055036  0.082667  0.054945   \n",
       "136895  378  0.480293  0.037936  0.030326  0.128798  0.030246  0.801573   \n",
       "136896  177  0.757986  0.327243  0.410397  0.082736  0.883734  0.334448   \n",
       "\n",
       "        abs_ret6  abs_ret7  abs_ret8  ...  min_ret   max_ret   std_ret  \\\n",
       "0       0.000000  0.072464  0.018067  ...      0.0  0.327869  0.061653   \n",
       "1       0.136565  0.034072  0.068236  ...      0.0  0.479781  0.094186   \n",
       "2       0.118343  0.029595  0.265487  ...      0.0  0.719741  0.162341   \n",
       "3       0.113723  0.113636  0.304183  ...      0.0  0.606290  0.116823   \n",
       "4       0.000000  0.216216  0.251527  ...      0.0  0.680760  0.099468   \n",
       "...          ...       ...       ...  ...      ...       ...       ...   \n",
       "136892  0.053539  0.064212  0.032086  ...      0.0  0.299369  0.064919   \n",
       "136893  0.086543  0.216450  0.217014  ...      0.0  0.643777  0.142153   \n",
       "136894  0.054840  0.054840  0.054855  ...      0.0  0.164249  0.035694   \n",
       "136895  0.180126  0.086460  0.334851  ...      0.0  0.801573  0.144624   \n",
       "136896  0.250000  0.418293  0.084128  ...      0.0  0.883734  0.212797   \n",
       "\n",
       "        median_ret   min_vol   max_vol   std_vol  median_vol   predict  \\\n",
       "0         0.000000  0.000000  0.095894  0.020351    0.007550 -1.859037   \n",
       "1         0.068143  0.005014  0.030123  0.006028    0.015041 -1.276157   \n",
       "2         0.089339  0.001066  0.070583  0.010798    0.013650 -1.999648   \n",
       "3         0.075873  0.000000  0.059053  0.013184    0.012316 -1.750885   \n",
       "4         0.071416  0.003962  0.064501  0.012081    0.011202 -2.089311   \n",
       "...            ...       ...       ...       ...         ...       ...   \n",
       "136892    0.043201  0.001552  0.072420  0.013117    0.013906 -1.614390   \n",
       "136893    0.131781  0.000000  0.203502  0.028475    0.008158 -1.337233   \n",
       "136894    0.027304  0.002358  0.071608  0.012897    0.012157 -1.971190   \n",
       "136895    0.113016  0.005106  0.051718  0.008015    0.014423 -2.289628   \n",
       "136896    0.179548  0.002809  0.108424  0.015898    0.011437 -2.265689   \n",
       "\n",
       "           error  \n",
       "0       0.498510  \n",
       "1       0.196941  \n",
       "2      -0.336535  \n",
       "3       1.911004  \n",
       "4      -0.393732  \n",
       "...          ...  \n",
       "136892 -0.350081  \n",
       "136893 -1.358559  \n",
       "136894  0.779151  \n",
       "136895 -0.080319  \n",
       "136896 -0.038436  \n",
       "\n",
       "[136897 rows x 135 columns]"
      ]
     },
     "execution_count": 24,
     "metadata": {},
     "output_type": "execute_result"
    }
   ],
   "source": [
    "test_X_reset.reset_index(drop=True, inplace=True)\n",
    "test_X_reset"
   ]
  },
  {
   "cell_type": "code",
   "execution_count": 25,
   "metadata": {},
   "outputs": [],
   "source": [
    "date_series = test_X_reset['day']"
   ]
  },
  {
   "cell_type": "code",
   "execution_count": 26,
   "metadata": {},
   "outputs": [],
   "source": [
    "X_tree=test_X_reset.iloc[:,1:134]\n",
    "y_tree = test_X_reset.iloc[:,134:135]"
   ]
  },
  {
   "cell_type": "code",
   "execution_count": null,
   "metadata": {
    "scrolled": true
   },
   "outputs": [],
   "source": [
    "#y_tree['day']=test_X_.iloc[:,0]"
   ]
  },
  {
   "cell_type": "markdown",
   "metadata": {},
   "source": [
    "Use train_time_split"
   ]
  },
  {
   "cell_type": "code",
   "execution_count": 27,
   "metadata": {},
   "outputs": [],
   "source": [
    "from sklearn.model_selection import TimeSeriesSplit\n",
    "from sklearn.metrics import make_scorer"
   ]
  },
  {
   "cell_type": "code",
   "execution_count": 28,
   "metadata": {},
   "outputs": [],
   "source": [
    "min_date = date_series.min()\n",
    "max_date = date_series.max()"
   ]
  },
  {
   "cell_type": "code",
   "execution_count": 29,
   "metadata": {},
   "outputs": [],
   "source": [
    "dates = list(range(min_date, max_date + 1))"
   ]
  },
  {
   "cell_type": "code",
   "execution_count": 38,
   "metadata": {
    "scrolled": false
   },
   "outputs": [
    {
     "name": "stdout",
     "output_type": "stream",
     "text": [
      "Date split #0\n",
      " train: [  0   1   2   3   4   5   6   7   8   9  10  11  12  13  14  15  16  17\n",
      "  18  19  20  21  22  23  24  25  26  27  28  29  30  31  32  33  34  35\n",
      "  36  37  38  39  40  41  42  43  44  45  46  47  48  49  50  51  52  53\n",
      "  54  55  56  57  58  59  60  61  62  63  64  65  66  67  68  69  70  71\n",
      "  72  73  74  75  76  77  78  79  80  81  82  83  84  85  86  87  88  89\n",
      "  90  91  92  93  94  95  96  97  98  99 100 101 102 103 104 105 106 107\n",
      " 108 109 110 111 112 113 114 115 116 117 118 119 120 121 122 123 124 125\n",
      " 126 127 128 129 130 131 132 133]\n",
      "valid: [135 136 137 138 139 140 141 142 143 144 145 146 147 148 149 150 151 152\n",
      " 153 154 155 156 157 158 159 160 161 162 163 164 165 166 167 168 169 170\n",
      " 171 172 173 174 175 176 177 178 179 180 181 182 183 184 185 186 187 188\n",
      " 189 190 191 192 193 194 195 196 197 198 199 200 201 202 203 204 205 206\n",
      " 207 208 209 210 211 212 213 214 215 216 217 218 219 220 221 222 223 224\n",
      " 225 226 227 228 229 230 231 232 233 234 235 236 237 238 239 240 241 242\n",
      " 243 244 245 246 247 248 249 250 251 252 253 254 255 256 257 258 259 260\n",
      " 261 262 263 264 265 266 267 268]\n",
      "\n",
      "\n",
      "Date split #1\n",
      " train: [  0   1   2   3   4   5   6   7   8   9  10  11  12  13  14  15  16  17\n",
      "  18  19  20  21  22  23  24  25  26  27  28  29  30  31  32  33  34  35\n",
      "  36  37  38  39  40  41  42  43  44  45  46  47  48  49  50  51  52  53\n",
      "  54  55  56  57  58  59  60  61  62  63  64  65  66  67  68  69  70  71\n",
      "  72  73  74  75  76  77  78  79  80  81  82  83  84  85  86  87  88  89\n",
      "  90  91  92  93  94  95  96  97  98  99 100 101 102 103 104 105 106 107\n",
      " 108 109 110 111 112 113 114 115 116 117 118 119 120 121 122 123 124 125\n",
      " 126 127 128 129 130 131 132 133 134 135 136 137 138 139 140 141 142 143\n",
      " 144 145 146 147 148 149 150 151 152 153 154 155 156 157 158 159 160 161\n",
      " 162 163 164 165 166 167 168 169 170 171 172 173 174 175 176 177 178 179\n",
      " 180 181 182 183 184 185 186 187 188 189 190 191 192 193 194 195 196 197\n",
      " 198 199 200 201 202 203 204 205 206 207 208 209 210 211 212 213 214 215\n",
      " 216 217 218 219 220 221 222 223 224 225 226 227 228 229 230 231 232 233\n",
      " 234 235 236 237 238 239 240 241 242 243 244 245 246 247 248 249 250 251\n",
      " 252 253 254 255 256 257 258 259 260 261 262 263 264 265 266 267]\n",
      "valid: [269 270 271 272 273 274 275 276 277 278 279 280 281 282 283 284 285 286\n",
      " 287 288 289 290 291 292 293 294 295 296 297 298 299 300 301 302 303 304\n",
      " 305 306 307 308 309 310 311 312 313 314 315 316 317 318 319 320 321 322\n",
      " 323 324 325 326 327 328 329 330 331 332 333 334 335 336 337 338 339 340\n",
      " 341 342 343 344 345 346 347 348 349 350 351 352 353 354 355 356 357 358\n",
      " 359 360 361 362 363 364 365 366 367 368 369 370 371 372 373 374 375 376\n",
      " 377 378 379 380 381 382 383 384 385 386 387 388 389 390 391 392 393 394\n",
      " 395 396 397 398 399 400 401 402]\n",
      "\n",
      "\n",
      "Date split #2\n",
      " train: [  0   1   2   3   4   5   6   7   8   9  10  11  12  13  14  15  16  17\n",
      "  18  19  20  21  22  23  24  25  26  27  28  29  30  31  32  33  34  35\n",
      "  36  37  38  39  40  41  42  43  44  45  46  47  48  49  50  51  52  53\n",
      "  54  55  56  57  58  59  60  61  62  63  64  65  66  67  68  69  70  71\n",
      "  72  73  74  75  76  77  78  79  80  81  82  83  84  85  86  87  88  89\n",
      "  90  91  92  93  94  95  96  97  98  99 100 101 102 103 104 105 106 107\n",
      " 108 109 110 111 112 113 114 115 116 117 118 119 120 121 122 123 124 125\n",
      " 126 127 128 129 130 131 132 133 134 135 136 137 138 139 140 141 142 143\n",
      " 144 145 146 147 148 149 150 151 152 153 154 155 156 157 158 159 160 161\n",
      " 162 163 164 165 166 167 168 169 170 171 172 173 174 175 176 177 178 179\n",
      " 180 181 182 183 184 185 186 187 188 189 190 191 192 193 194 195 196 197\n",
      " 198 199 200 201 202 203 204 205 206 207 208 209 210 211 212 213 214 215\n",
      " 216 217 218 219 220 221 222 223 224 225 226 227 228 229 230 231 232 233\n",
      " 234 235 236 237 238 239 240 241 242 243 244 245 246 247 248 249 250 251\n",
      " 252 253 254 255 256 257 258 259 260 261 262 263 264 265 266 267 268 269\n",
      " 270 271 272 273 274 275 276 277 278 279 280 281 282 283 284 285 286 287\n",
      " 288 289 290 291 292 293 294 295 296 297 298 299 300 301 302 303 304 305\n",
      " 306 307 308 309 310 311 312 313 314 315 316 317 318 319 320 321 322 323\n",
      " 324 325 326 327 328 329 330 331 332 333 334 335 336 337 338 339 340 341\n",
      " 342 343 344 345 346 347 348 349 350 351 352 353 354 355 356 357 358 359\n",
      " 360 361 362 363 364 365 366 367 368 369 370 371 372 373 374 375 376 377\n",
      " 378 379 380 381 382 383 384 385 386 387 388 389 390 391 392 393 394 395\n",
      " 396 397 398 399 400 401]\n",
      "valid: [403 404 405 406 407 408 409 410 411 412 413 414 415 416 417 418 419 420\n",
      " 421 422 423 424 425 426 427 428 429 430 431 432 433 434 435 436 437 438\n",
      " 439 440 441 442 443 444 445 446 447 448 449 450 451 452 453 454 455 456\n",
      " 457 458 459 460 461 462 463 464 465 466 467 468 469 470 471 472 473 474\n",
      " 475 476 477 478 479 480 481 482 483 484 485 486 487 488 489 490 491 492\n",
      " 493 494 495 496 497 498 499 500 501 502 503 504 505 506 507 508 509 510\n",
      " 511 512 513 514 515 516 517 518 519 520 521 522 523 524 525 526 527 528\n",
      " 529 530 531 532 533 534 535 536]\n",
      "\n",
      "\n",
      "Date split #3\n",
      " train: [  0   1   2   3   4   5   6   7   8   9  10  11  12  13  14  15  16  17\n",
      "  18  19  20  21  22  23  24  25  26  27  28  29  30  31  32  33  34  35\n",
      "  36  37  38  39  40  41  42  43  44  45  46  47  48  49  50  51  52  53\n",
      "  54  55  56  57  58  59  60  61  62  63  64  65  66  67  68  69  70  71\n",
      "  72  73  74  75  76  77  78  79  80  81  82  83  84  85  86  87  88  89\n",
      "  90  91  92  93  94  95  96  97  98  99 100 101 102 103 104 105 106 107\n",
      " 108 109 110 111 112 113 114 115 116 117 118 119 120 121 122 123 124 125\n",
      " 126 127 128 129 130 131 132 133 134 135 136 137 138 139 140 141 142 143\n",
      " 144 145 146 147 148 149 150 151 152 153 154 155 156 157 158 159 160 161\n",
      " 162 163 164 165 166 167 168 169 170 171 172 173 174 175 176 177 178 179\n",
      " 180 181 182 183 184 185 186 187 188 189 190 191 192 193 194 195 196 197\n",
      " 198 199 200 201 202 203 204 205 206 207 208 209 210 211 212 213 214 215\n",
      " 216 217 218 219 220 221 222 223 224 225 226 227 228 229 230 231 232 233\n",
      " 234 235 236 237 238 239 240 241 242 243 244 245 246 247 248 249 250 251\n",
      " 252 253 254 255 256 257 258 259 260 261 262 263 264 265 266 267 268 269\n",
      " 270 271 272 273 274 275 276 277 278 279 280 281 282 283 284 285 286 287\n",
      " 288 289 290 291 292 293 294 295 296 297 298 299 300 301 302 303 304 305\n",
      " 306 307 308 309 310 311 312 313 314 315 316 317 318 319 320 321 322 323\n",
      " 324 325 326 327 328 329 330 331 332 333 334 335 336 337 338 339 340 341\n",
      " 342 343 344 345 346 347 348 349 350 351 352 353 354 355 356 357 358 359\n",
      " 360 361 362 363 364 365 366 367 368 369 370 371 372 373 374 375 376 377\n",
      " 378 379 380 381 382 383 384 385 386 387 388 389 390 391 392 393 394 395\n",
      " 396 397 398 399 400 401 402 403 404 405 406 407 408 409 410 411 412 413\n",
      " 414 415 416 417 418 419 420 421 422 423 424 425 426 427 428 429 430 431\n",
      " 432 433 434 435 436 437 438 439 440 441 442 443 444 445 446 447 448 449\n",
      " 450 451 452 453 454 455 456 457 458 459 460 461 462 463 464 465 466 467\n",
      " 468 469 470 471 472 473 474 475 476 477 478 479 480 481 482 483 484 485\n",
      " 486 487 488 489 490 491 492 493 494 495 496 497 498 499 500 501 502 503\n",
      " 504 505 506 507 508 509 510 511 512 513 514 515 516 517 518 519 520 521\n",
      " 522 523 524 525 526 527 528 529 530 531 532 533 534 535]\n",
      "valid: [537 538 539 540 541 542 543 544 545 546 547 548 549 550 551 552 553 554\n",
      " 555 556 557 558 559 560 561 562 563 564 565 566 567 568 569 570 571 572\n",
      " 573 574 575 576 577 578 579 580 581 582 583 584 585 586 587 588 589 590\n",
      " 591 592 593 594 595 596 597 598 599 600 601 602 603 604 605 606 607 608\n",
      " 609 610 611 612 613 614 615 616 617 618 619 620 621 622 623 624 625 626\n",
      " 627 628 629 630 631 632 633 634 635 636 637 638 639 640 641 642 643 644\n",
      " 645 646 647 648 649 650 651 652 653 654 655 656 657 658 659 660 661 662\n",
      " 663 664 665 666 667 668 669 670]\n",
      "\n",
      "\n",
      "Date split #4\n",
      " train: [  0   1   2   3   4   5   6   7   8   9  10  11  12  13  14  15  16  17\n",
      "  18  19  20  21  22  23  24  25  26  27  28  29  30  31  32  33  34  35\n",
      "  36  37  38  39  40  41  42  43  44  45  46  47  48  49  50  51  52  53\n",
      "  54  55  56  57  58  59  60  61  62  63  64  65  66  67  68  69  70  71\n",
      "  72  73  74  75  76  77  78  79  80  81  82  83  84  85  86  87  88  89\n",
      "  90  91  92  93  94  95  96  97  98  99 100 101 102 103 104 105 106 107\n",
      " 108 109 110 111 112 113 114 115 116 117 118 119 120 121 122 123 124 125\n",
      " 126 127 128 129 130 131 132 133 134 135 136 137 138 139 140 141 142 143\n",
      " 144 145 146 147 148 149 150 151 152 153 154 155 156 157 158 159 160 161\n",
      " 162 163 164 165 166 167 168 169 170 171 172 173 174 175 176 177 178 179\n",
      " 180 181 182 183 184 185 186 187 188 189 190 191 192 193 194 195 196 197\n",
      " 198 199 200 201 202 203 204 205 206 207 208 209 210 211 212 213 214 215\n",
      " 216 217 218 219 220 221 222 223 224 225 226 227 228 229 230 231 232 233\n",
      " 234 235 236 237 238 239 240 241 242 243 244 245 246 247 248 249 250 251\n",
      " 252 253 254 255 256 257 258 259 260 261 262 263 264 265 266 267 268 269\n",
      " 270 271 272 273 274 275 276 277 278 279 280 281 282 283 284 285 286 287\n",
      " 288 289 290 291 292 293 294 295 296 297 298 299 300 301 302 303 304 305\n",
      " 306 307 308 309 310 311 312 313 314 315 316 317 318 319 320 321 322 323\n",
      " 324 325 326 327 328 329 330 331 332 333 334 335 336 337 338 339 340 341\n",
      " 342 343 344 345 346 347 348 349 350 351 352 353 354 355 356 357 358 359\n",
      " 360 361 362 363 364 365 366 367 368 369 370 371 372 373 374 375 376 377\n",
      " 378 379 380 381 382 383 384 385 386 387 388 389 390 391 392 393 394 395\n",
      " 396 397 398 399 400 401 402 403 404 405 406 407 408 409 410 411 412 413\n",
      " 414 415 416 417 418 419 420 421 422 423 424 425 426 427 428 429 430 431\n",
      " 432 433 434 435 436 437 438 439 440 441 442 443 444 445 446 447 448 449\n",
      " 450 451 452 453 454 455 456 457 458 459 460 461 462 463 464 465 466 467\n",
      " 468 469 470 471 472 473 474 475 476 477 478 479 480 481 482 483 484 485\n",
      " 486 487 488 489 490 491 492 493 494 495 496 497 498 499 500 501 502 503\n",
      " 504 505 506 507 508 509 510 511 512 513 514 515 516 517 518 519 520 521\n",
      " 522 523 524 525 526 527 528 529 530 531 532 533 534 535 536 537 538 539\n",
      " 540 541 542 543 544 545 546 547 548 549 550 551 552 553 554 555 556 557\n",
      " 558 559 560 561 562 563 564 565 566 567 568 569 570 571 572 573 574 575\n",
      " 576 577 578 579 580 581 582 583 584 585 586 587 588 589 590 591 592 593\n",
      " 594 595 596 597 598 599 600 601 602 603 604 605 606 607 608 609 610 611\n",
      " 612 613 614 615 616 617 618 619 620 621 622 623 624 625 626 627 628 629\n",
      " 630 631 632 633 634 635 636 637 638 639 640 641 642 643 644 645 646 647\n",
      " 648 649 650 651 652 653 654 655 656 657 658 659 660 661 662 663 664 665\n",
      " 666 667 668 669]\n",
      "valid: [671 672 673 674 675 676 677 678 679 680 681 682 683 684 685 686 687 688\n",
      " 689 690 691 692 693 694 695 696 697 698 699 700 701 702 703 704 705 706\n",
      " 707 708 709 710 711 712 713 714 715 716 717 718 719 720 721 722 723 724\n",
      " 725 726 727 728 729 730 731 732 733 734 735 736 737 738 739 740 741 742\n",
      " 743 744 745 746 747 748 749 750 751 752 753 754 755 756 757 758 759 760\n",
      " 761 762 763 764 765 766 767 768 769 770 771 772 773 774 775 776 777 778\n",
      " 779 780 781 782 783 784 785 786 787 788 789 790 791 792 793 794 795 796\n",
      " 797 798 799 800 801 802 803 804]\n",
      "\n",
      "\n"
     ]
    }
   ],
   "source": [
    "split_num = 5\n",
    "date_gap_num = 1\n",
    "\n",
    "splitter = TimeSeriesSplit(n_splits=split_num,gap=date_gap_num)\n",
    "\n",
    "date_splits = list(splitter.split(dates))\n",
    "for i, (train_dates, valid_dates) in enumerate(date_splits):\n",
    "    print(\"Date split #{}\\n train: {}\\nvalid: {}\\n\\n\".format(i, train_dates, valid_dates))"
   ]
  },
  {
   "cell_type": "code",
   "execution_count": 39,
   "metadata": {},
   "outputs": [],
   "source": [
    "def get_indices_from_dates(dates):\n",
    "    return [ i - 1 for i in date_series[date_series.isin(dates)].index]\n",
    "split_indices = list()\n",
    "for train_dates, valid_dates in date_splits:\n",
    "    train_indices = get_indices_from_dates(train_dates)\n",
    "    valid_indices = get_indices_from_dates(valid_dates)\n",
    "    split_indices.append((train_indices, valid_indices))"
   ]
  },
  {
   "cell_type": "code",
   "execution_count": null,
   "metadata": {},
   "outputs": [],
   "source": [
    "!pip install xgboost"
   ]
  },
  {
   "cell_type": "code",
   "execution_count": 43,
   "metadata": {
    "scrolled": false
   },
   "outputs": [
    {
     "name": "stdout",
     "output_type": "stream",
     "text": [
      "Collecting lightgbm\n",
      "  Downloading lightgbm-3.1.1-py2.py3-none-win_amd64.whl (754 kB)\n",
      "Requirement already satisfied: wheel in c:\\users\\antoi\\anaconda3\\lib\\site-packages (from lightgbm) (0.34.2)\n",
      "Requirement already satisfied: numpy in c:\\users\\antoi\\anaconda3\\lib\\site-packages (from lightgbm) (1.18.5)\n",
      "Requirement already satisfied: scikit-learn!=0.22.0 in c:\\users\\antoi\\anaconda3\\lib\\site-packages (from lightgbm) (0.24.1)\n",
      "Requirement already satisfied: scipy in c:\\users\\antoi\\anaconda3\\lib\\site-packages (from lightgbm) (1.5.0)\n",
      "Requirement already satisfied: joblib>=0.11 in c:\\users\\antoi\\anaconda3\\lib\\site-packages (from scikit-learn!=0.22.0->lightgbm) (0.16.0)\n",
      "Requirement already satisfied: threadpoolctl>=2.0.0 in c:\\users\\antoi\\anaconda3\\lib\\site-packages (from scikit-learn!=0.22.0->lightgbm) (2.1.0)\n",
      "Installing collected packages: lightgbm\n",
      "Successfully installed lightgbm-3.1.1\n"
     ]
    }
   ],
   "source": [
    "!pip install lightgbm"
   ]
  },
  {
   "cell_type": "code",
   "execution_count": 58,
   "metadata": {},
   "outputs": [],
   "source": [
    "import xgboost"
   ]
  },
  {
   "cell_type": "code",
   "execution_count": 62,
   "metadata": {},
   "outputs": [],
   "source": [
    "from sklearn.ensemble import GradientBoostingRegressor"
   ]
  },
  {
   "cell_type": "code",
   "execution_count": 46,
   "metadata": {},
   "outputs": [],
   "source": [
    "from lightgbm import LGBMClassifier"
   ]
  },
  {
   "cell_type": "code",
   "execution_count": 63,
   "metadata": {},
   "outputs": [],
   "source": [
    "from xgboost import XGBClassifier\n",
    "\n",
    "# Replace with your model here, this is just a non-optimized example, with few estimators for fast run-time\n",
    "#model = XGBClassifier(tree_method='gpu_hist', n_estimators=3, gpu_id=0, n_gpus = 1, random_state = 55, n_jobs = -1)\n",
    "\n",
    "#model = LGBMClassifier()\n",
    "model = GradientBoostingRegressor()"
   ]
  },
  {
   "cell_type": "code",
   "execution_count": null,
   "metadata": {},
   "outputs": [],
   "source": [
    "X_tree.values"
   ]
  },
  {
   "cell_type": "code",
   "execution_count": null,
   "metadata": {},
   "outputs": [],
   "source": [
    "y_tree"
   ]
  },
  {
   "cell_type": "code",
   "execution_count": 51,
   "metadata": {},
   "outputs": [],
   "source": [
    "from sklearn.model_selection import cross_val_score "
   ]
  },
  {
   "cell_type": "code",
   "execution_count": 64,
   "metadata": {
    "scrolled": true
   },
   "outputs": [
    {
     "name": "stderr",
     "output_type": "stream",
     "text": [
      "C:\\Users\\antoi\\anaconda3\\lib\\site-packages\\sklearn\\utils\\validation.py:63: DataConversionWarning: A column-vector y was passed when a 1d array was expected. Please change the shape of y to (n_samples, ), for example using ravel().\n",
      "  return f(*args, **kwargs)\n",
      "C:\\Users\\antoi\\anaconda3\\lib\\site-packages\\sklearn\\utils\\validation.py:63: DataConversionWarning: A column-vector y was passed when a 1d array was expected. Please change the shape of y to (n_samples, ), for example using ravel().\n",
      "  return f(*args, **kwargs)\n",
      "C:\\Users\\antoi\\anaconda3\\lib\\site-packages\\sklearn\\utils\\validation.py:63: DataConversionWarning: A column-vector y was passed when a 1d array was expected. Please change the shape of y to (n_samples, ), for example using ravel().\n",
      "  return f(*args, **kwargs)\n",
      "C:\\Users\\antoi\\anaconda3\\lib\\site-packages\\sklearn\\utils\\validation.py:63: DataConversionWarning: A column-vector y was passed when a 1d array was expected. Please change the shape of y to (n_samples, ), for example using ravel().\n",
      "  return f(*args, **kwargs)\n",
      "C:\\Users\\antoi\\anaconda3\\lib\\site-packages\\sklearn\\utils\\validation.py:63: DataConversionWarning: A column-vector y was passed when a 1d array was expected. Please change the shape of y to (n_samples, ), for example using ravel().\n",
      "  return f(*args, **kwargs)\n"
     ]
    },
    {
     "name": "stdout",
     "output_type": "stream",
     "text": [
      "Scores: [-0.58634074 -0.55388423 -0.5768915  -0.574442   -0.57826998] \tmean score: -0.5739656888697905\n"
     ]
    }
   ],
   "source": [
    "cv_scores = cross_val_score(model, X_tree.values, y_tree, cv=split_indices, scoring='neg_mean_squared_error')\n",
    "print(\"Scores:\", cv_scores, \"\\tmean score:\", np.mean(cv_scores))"
   ]
  },
  {
   "cell_type": "code",
   "execution_count": null,
   "metadata": {},
   "outputs": [],
   "source": [
    "from sklearn.model_selection import GridSearchCV\n",
    "from sklearn.metrics import mean_squared_error\n",
    "\n",
    "\n",
    "tscv = TimeSeriesSplit(n_splits=2)\n",
    "score_models = {'MSE': make_scorer(mean_squared_error)}\n",
    "#score_models = {'lift_scorer' : lift_scorer, 'AUC' : 'roc_auc'}\n",
    "\n",
    "xgb_model = XGBClassifier()\n",
    "test_params = { 'max_depth': [1,2,4,6],\n",
    "                    'learning_rate': [0.1,0.2,0.3,0.4],\n",
    "                    'n_estimators': [20,40,80,120],\n",
    "                    'min_child_weight' : [3,6,9,12]}\n",
    "gsearch = GridSearchCV(estimator=xgb_model,n_jobs=-1, scoring=score_models, cv=tscv, verbose=1,\n",
    "                           return_train_score=False,  param_grid=test_params,refit='MSE')\n",
    "gsearch.fit(X_tree,y_tree)\n",
    "result_df = pd.DataFrame(gsearch.cv_results_)\n",
    "result_df.sort_values('MSE',ascending=False,inplace=True)\n",
    "result_df['n_weights']= test_n_weights(X,y,test_params)\n",
    "result_df.to_csv(data_set_path.replace('.csv', '_crossval.csv'), index=False)\n",
    "plot_regression_test(data_set_path,result_df) "
   ]
  },
  {
   "cell_type": "code",
   "execution_count": null,
   "metadata": {},
   "outputs": [],
   "source": [
    "dans train train\n",
    "column prediction\n",
    "column error\n"
   ]
  },
  {
   "cell_type": "markdown",
   "metadata": {},
   "source": [
    "Prediction"
   ]
  },
  {
   "cell_type": "code",
   "execution_count": null,
   "metadata": {},
   "outputs": [],
   "source": [
    "from sklearn.linear_model import LinearRegression\n",
    "\n",
    "regrLinWeighted = LinearRegression()\n",
    "regrLinWeighted.fit(train_df.iloc[:,1:], train_df['target'])\n",
    "\n",
    "x_test['predict'] = regrLinWeighted.predict(x_test.iloc[:,3:])"
   ]
  },
  {
   "cell_type": "code",
   "execution_count": null,
   "metadata": {},
   "outputs": [],
   "source": [
    "predictions = x_test[['ID', 'predict']]\n",
    "predictions.columns = ['ID', 'target']"
   ]
  },
  {
   "cell_type": "code",
   "execution_count": null,
   "metadata": {},
   "outputs": [],
   "source": [
    "predictions.to_csv('predictions.csv', sep=',', index=False)"
   ]
  },
  {
   "cell_type": "markdown",
   "metadata": {},
   "source": [
    "Results from this very very simple model :  3344. Soit très mauvais modèle soit prb ID/target"
   ]
  }
 ],
 "metadata": {
  "kernelspec": {
   "display_name": "Python 3",
   "language": "python",
   "name": "python3"
  },
  "language_info": {
   "codemirror_mode": {
    "name": "ipython",
    "version": 3
   },
   "file_extension": ".py",
   "mimetype": "text/x-python",
   "name": "python",
   "nbconvert_exporter": "python",
   "pygments_lexer": "ipython3",
   "version": "3.8.3"
  }
 },
 "nbformat": 4,
 "nbformat_minor": 4
}
