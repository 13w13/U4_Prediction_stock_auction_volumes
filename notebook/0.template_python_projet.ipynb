{
 "cells": [
  {
   "cell_type": "markdown",
   "metadata": {},
   "source": [
    "# Machine Learning to Identify Fraud in the Enron Corpus"
   ]
  },
  {
   "cell_type": "code",
   "execution_count": 1,
   "metadata": {},
   "outputs": [],
   "source": [
    "import warnings \n",
    "warnings.filterwarnings(\"ignore\")\n",
    "import sys\n",
    "import pickle\n",
    "sys.path.append(\"../tools/\")\n",
    "from feature_format import featureFormat, targetFeatureSplit\n",
    "from tester import dump_classifier_and_data\n",
    "import pandas as pd\n",
    "import sys\n",
    "import pickle\n",
    "import csv\n",
    "import matplotlib.pyplot as plt\n",
    "\n",
    "sys.path.append(\"../tools/\")\n",
    "from feature_format import featureFormat, targetFeatureSplit\n",
    "#from poi_data import *\n",
    "from sklearn.feature_selection import SelectKBest\n",
    "from sklearn.pipeline import Pipeline\n",
    "from sklearn.preprocessing import StandardScaler\n",
    "from sklearn.model_selection import StratifiedShuffleSplit\n",
    "\n",
    "from numpy import mean\n",
    "from sklearn.model_selection import train_test_split\n",
    "from sklearn.model_selection import cross_validate\n",
    "\n",
    "from sklearn.metrics import accuracy_score, precision_score, recall_score"
   ]
  },
  {
   "cell_type": "markdown",
   "metadata": {},
   "source": [
    "## Task 1: Select what features you'll use"
   ]
  },
  {
   "cell_type": "markdown",
   "metadata": {},
   "source": [
    "features_list is a list of strings, each of which is a feature name.    \n",
    "The first feature must be \"poi\".    \n",
    "features_list = ['poi','salary']    \n",
    "**You will need to use more features**"
   ]
  },
  {
   "cell_type": "code",
   "execution_count": 2,
   "metadata": {},
   "outputs": [],
   "source": [
    "target_label = 'poi'\n",
    "\n",
    "email_features_list = [\n",
    "    'from_messages',\n",
    "    'from_poi_to_this_person',\n",
    "    'from_this_person_to_poi',\n",
    "    'shared_receipt_with_poi',\n",
    "    'to_messages',\n",
    "    ]\n",
    "    \n",
    "financial_features_list = [\n",
    "    'bonus',\n",
    "    'deferral_payments',\n",
    "    'deferred_income',\n",
    "    'director_fees',\n",
    "    'exercised_stock_options',\n",
    "    'expenses',\n",
    "    'loan_advances',\n",
    "    'long_term_incentive',\n",
    "    'other',\n",
    "    'restricted_stock',\n",
    "    'restricted_stock_deferred',\n",
    "    'salary',\n",
    "    'total_payments',\n",
    "    'total_stock_value',\n",
    "]\n",
    "\n",
    "features_list = [target_label] + financial_features_list + email_features_list"
   ]
  },
  {
   "cell_type": "code",
   "execution_count": 3,
   "metadata": {},
   "outputs": [],
   "source": [
    "### Load the dictionary containing the dataset\n",
    "\n",
    "with open('final_project_dataset.pkl', 'rb') as data_file:\n",
    "    data_dict = pickle.load(data_file)"
   ]
  },
  {
   "cell_type": "code",
   "execution_count": 4,
   "metadata": {},
   "outputs": [
    {
     "data": {
      "text/html": [
       "<div>\n",
       "<style scoped>\n",
       "    .dataframe tbody tr th:only-of-type {\n",
       "        vertical-align: middle;\n",
       "    }\n",
       "\n",
       "    .dataframe tbody tr th {\n",
       "        vertical-align: top;\n",
       "    }\n",
       "\n",
       "    .dataframe thead th {\n",
       "        text-align: right;\n",
       "    }\n",
       "</style>\n",
       "<table border=\"1\" class=\"dataframe\">\n",
       "  <thead>\n",
       "    <tr style=\"text-align: right;\">\n",
       "      <th></th>\n",
       "      <th>salary</th>\n",
       "      <th>to_messages</th>\n",
       "      <th>deferral_payments</th>\n",
       "      <th>total_payments</th>\n",
       "      <th>loan_advances</th>\n",
       "      <th>bonus</th>\n",
       "      <th>email_address</th>\n",
       "      <th>restricted_stock_deferred</th>\n",
       "      <th>deferred_income</th>\n",
       "      <th>total_stock_value</th>\n",
       "      <th>...</th>\n",
       "      <th>from_poi_to_this_person</th>\n",
       "      <th>exercised_stock_options</th>\n",
       "      <th>from_messages</th>\n",
       "      <th>other</th>\n",
       "      <th>from_this_person_to_poi</th>\n",
       "      <th>poi</th>\n",
       "      <th>long_term_incentive</th>\n",
       "      <th>shared_receipt_with_poi</th>\n",
       "      <th>restricted_stock</th>\n",
       "      <th>director_fees</th>\n",
       "    </tr>\n",
       "  </thead>\n",
       "  <tbody>\n",
       "    <tr>\n",
       "      <th>METTS MARK</th>\n",
       "      <td>365788</td>\n",
       "      <td>807</td>\n",
       "      <td>NaN</td>\n",
       "      <td>1061827</td>\n",
       "      <td>NaN</td>\n",
       "      <td>600000</td>\n",
       "      <td>mark.metts@enron.com</td>\n",
       "      <td>NaN</td>\n",
       "      <td>NaN</td>\n",
       "      <td>585062</td>\n",
       "      <td>...</td>\n",
       "      <td>38</td>\n",
       "      <td>NaN</td>\n",
       "      <td>29</td>\n",
       "      <td>1740</td>\n",
       "      <td>1</td>\n",
       "      <td>False</td>\n",
       "      <td>NaN</td>\n",
       "      <td>702</td>\n",
       "      <td>585062</td>\n",
       "      <td>NaN</td>\n",
       "    </tr>\n",
       "    <tr>\n",
       "      <th>BAXTER JOHN C</th>\n",
       "      <td>267102</td>\n",
       "      <td>NaN</td>\n",
       "      <td>1295738</td>\n",
       "      <td>5634343</td>\n",
       "      <td>NaN</td>\n",
       "      <td>1200000</td>\n",
       "      <td>NaN</td>\n",
       "      <td>NaN</td>\n",
       "      <td>-1386055</td>\n",
       "      <td>10623258</td>\n",
       "      <td>...</td>\n",
       "      <td>NaN</td>\n",
       "      <td>6680544</td>\n",
       "      <td>NaN</td>\n",
       "      <td>2660303</td>\n",
       "      <td>NaN</td>\n",
       "      <td>False</td>\n",
       "      <td>1586055</td>\n",
       "      <td>NaN</td>\n",
       "      <td>3942714</td>\n",
       "      <td>NaN</td>\n",
       "    </tr>\n",
       "    <tr>\n",
       "      <th>ELLIOTT STEVEN</th>\n",
       "      <td>170941</td>\n",
       "      <td>NaN</td>\n",
       "      <td>NaN</td>\n",
       "      <td>211725</td>\n",
       "      <td>NaN</td>\n",
       "      <td>350000</td>\n",
       "      <td>steven.elliott@enron.com</td>\n",
       "      <td>NaN</td>\n",
       "      <td>-400729</td>\n",
       "      <td>6678735</td>\n",
       "      <td>...</td>\n",
       "      <td>NaN</td>\n",
       "      <td>4890344</td>\n",
       "      <td>NaN</td>\n",
       "      <td>12961</td>\n",
       "      <td>NaN</td>\n",
       "      <td>False</td>\n",
       "      <td>NaN</td>\n",
       "      <td>NaN</td>\n",
       "      <td>1788391</td>\n",
       "      <td>NaN</td>\n",
       "    </tr>\n",
       "    <tr>\n",
       "      <th>CORDES WILLIAM R</th>\n",
       "      <td>NaN</td>\n",
       "      <td>764</td>\n",
       "      <td>NaN</td>\n",
       "      <td>NaN</td>\n",
       "      <td>NaN</td>\n",
       "      <td>NaN</td>\n",
       "      <td>bill.cordes@enron.com</td>\n",
       "      <td>NaN</td>\n",
       "      <td>NaN</td>\n",
       "      <td>1038185</td>\n",
       "      <td>...</td>\n",
       "      <td>10</td>\n",
       "      <td>651850</td>\n",
       "      <td>12</td>\n",
       "      <td>NaN</td>\n",
       "      <td>0</td>\n",
       "      <td>False</td>\n",
       "      <td>NaN</td>\n",
       "      <td>58</td>\n",
       "      <td>386335</td>\n",
       "      <td>NaN</td>\n",
       "    </tr>\n",
       "    <tr>\n",
       "      <th>HANNON KEVIN P</th>\n",
       "      <td>243293</td>\n",
       "      <td>1045</td>\n",
       "      <td>NaN</td>\n",
       "      <td>288682</td>\n",
       "      <td>NaN</td>\n",
       "      <td>1500000</td>\n",
       "      <td>kevin.hannon@enron.com</td>\n",
       "      <td>NaN</td>\n",
       "      <td>-3117011</td>\n",
       "      <td>6391065</td>\n",
       "      <td>...</td>\n",
       "      <td>32</td>\n",
       "      <td>5538001</td>\n",
       "      <td>32</td>\n",
       "      <td>11350</td>\n",
       "      <td>21</td>\n",
       "      <td>True</td>\n",
       "      <td>1617011</td>\n",
       "      <td>1035</td>\n",
       "      <td>853064</td>\n",
       "      <td>NaN</td>\n",
       "    </tr>\n",
       "    <tr>\n",
       "      <th>...</th>\n",
       "      <td>...</td>\n",
       "      <td>...</td>\n",
       "      <td>...</td>\n",
       "      <td>...</td>\n",
       "      <td>...</td>\n",
       "      <td>...</td>\n",
       "      <td>...</td>\n",
       "      <td>...</td>\n",
       "      <td>...</td>\n",
       "      <td>...</td>\n",
       "      <td>...</td>\n",
       "      <td>...</td>\n",
       "      <td>...</td>\n",
       "      <td>...</td>\n",
       "      <td>...</td>\n",
       "      <td>...</td>\n",
       "      <td>...</td>\n",
       "      <td>...</td>\n",
       "      <td>...</td>\n",
       "      <td>...</td>\n",
       "      <td>...</td>\n",
       "    </tr>\n",
       "    <tr>\n",
       "      <th>GRAMM WENDY L</th>\n",
       "      <td>NaN</td>\n",
       "      <td>NaN</td>\n",
       "      <td>NaN</td>\n",
       "      <td>119292</td>\n",
       "      <td>NaN</td>\n",
       "      <td>NaN</td>\n",
       "      <td>NaN</td>\n",
       "      <td>NaN</td>\n",
       "      <td>NaN</td>\n",
       "      <td>NaN</td>\n",
       "      <td>...</td>\n",
       "      <td>NaN</td>\n",
       "      <td>NaN</td>\n",
       "      <td>NaN</td>\n",
       "      <td>NaN</td>\n",
       "      <td>NaN</td>\n",
       "      <td>False</td>\n",
       "      <td>NaN</td>\n",
       "      <td>NaN</td>\n",
       "      <td>NaN</td>\n",
       "      <td>119292</td>\n",
       "    </tr>\n",
       "    <tr>\n",
       "      <th>CAUSEY RICHARD A</th>\n",
       "      <td>415189</td>\n",
       "      <td>1892</td>\n",
       "      <td>NaN</td>\n",
       "      <td>1868758</td>\n",
       "      <td>NaN</td>\n",
       "      <td>1000000</td>\n",
       "      <td>richard.causey@enron.com</td>\n",
       "      <td>NaN</td>\n",
       "      <td>-235000</td>\n",
       "      <td>2502063</td>\n",
       "      <td>...</td>\n",
       "      <td>58</td>\n",
       "      <td>NaN</td>\n",
       "      <td>49</td>\n",
       "      <td>307895</td>\n",
       "      <td>12</td>\n",
       "      <td>True</td>\n",
       "      <td>350000</td>\n",
       "      <td>1585</td>\n",
       "      <td>2502063</td>\n",
       "      <td>NaN</td>\n",
       "    </tr>\n",
       "    <tr>\n",
       "      <th>TAYLOR MITCHELL S</th>\n",
       "      <td>265214</td>\n",
       "      <td>533</td>\n",
       "      <td>227449</td>\n",
       "      <td>1092663</td>\n",
       "      <td>NaN</td>\n",
       "      <td>600000</td>\n",
       "      <td>mitchell.taylor@enron.com</td>\n",
       "      <td>NaN</td>\n",
       "      <td>NaN</td>\n",
       "      <td>3745048</td>\n",
       "      <td>...</td>\n",
       "      <td>0</td>\n",
       "      <td>3181250</td>\n",
       "      <td>29</td>\n",
       "      <td>NaN</td>\n",
       "      <td>0</td>\n",
       "      <td>False</td>\n",
       "      <td>NaN</td>\n",
       "      <td>300</td>\n",
       "      <td>563798</td>\n",
       "      <td>NaN</td>\n",
       "    </tr>\n",
       "    <tr>\n",
       "      <th>DONAHUE JR JEFFREY M</th>\n",
       "      <td>278601</td>\n",
       "      <td>865</td>\n",
       "      <td>NaN</td>\n",
       "      <td>875760</td>\n",
       "      <td>NaN</td>\n",
       "      <td>800000</td>\n",
       "      <td>jeff.donahue@enron.com</td>\n",
       "      <td>NaN</td>\n",
       "      <td>-300000</td>\n",
       "      <td>1080988</td>\n",
       "      <td>...</td>\n",
       "      <td>188</td>\n",
       "      <td>765920</td>\n",
       "      <td>22</td>\n",
       "      <td>891</td>\n",
       "      <td>11</td>\n",
       "      <td>False</td>\n",
       "      <td>NaN</td>\n",
       "      <td>772</td>\n",
       "      <td>315068</td>\n",
       "      <td>NaN</td>\n",
       "    </tr>\n",
       "    <tr>\n",
       "      <th>GLISAN JR BEN F</th>\n",
       "      <td>274975</td>\n",
       "      <td>873</td>\n",
       "      <td>NaN</td>\n",
       "      <td>1272284</td>\n",
       "      <td>NaN</td>\n",
       "      <td>600000</td>\n",
       "      <td>ben.glisan@enron.com</td>\n",
       "      <td>NaN</td>\n",
       "      <td>NaN</td>\n",
       "      <td>778546</td>\n",
       "      <td>...</td>\n",
       "      <td>52</td>\n",
       "      <td>384728</td>\n",
       "      <td>16</td>\n",
       "      <td>200308</td>\n",
       "      <td>6</td>\n",
       "      <td>True</td>\n",
       "      <td>71023</td>\n",
       "      <td>874</td>\n",
       "      <td>393818</td>\n",
       "      <td>NaN</td>\n",
       "    </tr>\n",
       "  </tbody>\n",
       "</table>\n",
       "<p>146 rows × 21 columns</p>\n",
       "</div>"
      ],
      "text/plain": [
       "                      salary to_messages deferral_payments total_payments  \\\n",
       "METTS MARK            365788         807               NaN        1061827   \n",
       "BAXTER JOHN C         267102         NaN           1295738        5634343   \n",
       "ELLIOTT STEVEN        170941         NaN               NaN         211725   \n",
       "CORDES WILLIAM R         NaN         764               NaN            NaN   \n",
       "HANNON KEVIN P        243293        1045               NaN         288682   \n",
       "...                      ...         ...               ...            ...   \n",
       "GRAMM WENDY L            NaN         NaN               NaN         119292   \n",
       "CAUSEY RICHARD A      415189        1892               NaN        1868758   \n",
       "TAYLOR MITCHELL S     265214         533            227449        1092663   \n",
       "DONAHUE JR JEFFREY M  278601         865               NaN         875760   \n",
       "GLISAN JR BEN F       274975         873               NaN        1272284   \n",
       "\n",
       "                     loan_advances    bonus              email_address  \\\n",
       "METTS MARK                     NaN   600000       mark.metts@enron.com   \n",
       "BAXTER JOHN C                  NaN  1200000                        NaN   \n",
       "ELLIOTT STEVEN                 NaN   350000   steven.elliott@enron.com   \n",
       "CORDES WILLIAM R               NaN      NaN      bill.cordes@enron.com   \n",
       "HANNON KEVIN P                 NaN  1500000     kevin.hannon@enron.com   \n",
       "...                            ...      ...                        ...   \n",
       "GRAMM WENDY L                  NaN      NaN                        NaN   \n",
       "CAUSEY RICHARD A               NaN  1000000   richard.causey@enron.com   \n",
       "TAYLOR MITCHELL S              NaN   600000  mitchell.taylor@enron.com   \n",
       "DONAHUE JR JEFFREY M           NaN   800000     jeff.donahue@enron.com   \n",
       "GLISAN JR BEN F                NaN   600000       ben.glisan@enron.com   \n",
       "\n",
       "                     restricted_stock_deferred deferred_income  \\\n",
       "METTS MARK                                 NaN             NaN   \n",
       "BAXTER JOHN C                              NaN        -1386055   \n",
       "ELLIOTT STEVEN                             NaN         -400729   \n",
       "CORDES WILLIAM R                           NaN             NaN   \n",
       "HANNON KEVIN P                             NaN        -3117011   \n",
       "...                                        ...             ...   \n",
       "GRAMM WENDY L                              NaN             NaN   \n",
       "CAUSEY RICHARD A                           NaN         -235000   \n",
       "TAYLOR MITCHELL S                          NaN             NaN   \n",
       "DONAHUE JR JEFFREY M                       NaN         -300000   \n",
       "GLISAN JR BEN F                            NaN             NaN   \n",
       "\n",
       "                     total_stock_value  ... from_poi_to_this_person  \\\n",
       "METTS MARK                      585062  ...                      38   \n",
       "BAXTER JOHN C                 10623258  ...                     NaN   \n",
       "ELLIOTT STEVEN                 6678735  ...                     NaN   \n",
       "CORDES WILLIAM R               1038185  ...                      10   \n",
       "HANNON KEVIN P                 6391065  ...                      32   \n",
       "...                                ...  ...                     ...   \n",
       "GRAMM WENDY L                      NaN  ...                     NaN   \n",
       "CAUSEY RICHARD A               2502063  ...                      58   \n",
       "TAYLOR MITCHELL S              3745048  ...                       0   \n",
       "DONAHUE JR JEFFREY M           1080988  ...                     188   \n",
       "GLISAN JR BEN F                 778546  ...                      52   \n",
       "\n",
       "                     exercised_stock_options from_messages    other  \\\n",
       "METTS MARK                               NaN            29     1740   \n",
       "BAXTER JOHN C                        6680544           NaN  2660303   \n",
       "ELLIOTT STEVEN                       4890344           NaN    12961   \n",
       "CORDES WILLIAM R                      651850            12      NaN   \n",
       "HANNON KEVIN P                       5538001            32    11350   \n",
       "...                                      ...           ...      ...   \n",
       "GRAMM WENDY L                            NaN           NaN      NaN   \n",
       "CAUSEY RICHARD A                         NaN            49   307895   \n",
       "TAYLOR MITCHELL S                    3181250            29      NaN   \n",
       "DONAHUE JR JEFFREY M                  765920            22      891   \n",
       "GLISAN JR BEN F                       384728            16   200308   \n",
       "\n",
       "                     from_this_person_to_poi    poi long_term_incentive  \\\n",
       "METTS MARK                                 1  False                 NaN   \n",
       "BAXTER JOHN C                            NaN  False             1586055   \n",
       "ELLIOTT STEVEN                           NaN  False                 NaN   \n",
       "CORDES WILLIAM R                           0  False                 NaN   \n",
       "HANNON KEVIN P                            21   True             1617011   \n",
       "...                                      ...    ...                 ...   \n",
       "GRAMM WENDY L                            NaN  False                 NaN   \n",
       "CAUSEY RICHARD A                          12   True              350000   \n",
       "TAYLOR MITCHELL S                          0  False                 NaN   \n",
       "DONAHUE JR JEFFREY M                      11  False                 NaN   \n",
       "GLISAN JR BEN F                            6   True               71023   \n",
       "\n",
       "                     shared_receipt_with_poi restricted_stock director_fees  \n",
       "METTS MARK                               702           585062           NaN  \n",
       "BAXTER JOHN C                            NaN          3942714           NaN  \n",
       "ELLIOTT STEVEN                           NaN          1788391           NaN  \n",
       "CORDES WILLIAM R                          58           386335           NaN  \n",
       "HANNON KEVIN P                          1035           853064           NaN  \n",
       "...                                      ...              ...           ...  \n",
       "GRAMM WENDY L                            NaN              NaN        119292  \n",
       "CAUSEY RICHARD A                        1585          2502063           NaN  \n",
       "TAYLOR MITCHELL S                        300           563798           NaN  \n",
       "DONAHUE JR JEFFREY M                     772           315068           NaN  \n",
       "GLISAN JR BEN F                          874           393818           NaN  \n",
       "\n",
       "[146 rows x 21 columns]"
      ]
     },
     "execution_count": 4,
     "metadata": {},
     "output_type": "execute_result"
    }
   ],
   "source": [
    "df = pd.DataFrame(data_dict)\n",
    "df.T"
   ]
  },
  {
   "cell_type": "markdown",
   "metadata": {},
   "source": [
    "### 1.1.0 Explore csv file "
   ]
  },
  {
   "cell_type": "code",
   "execution_count": 5,
   "metadata": {},
   "outputs": [],
   "source": [
    "def make_csv(data_dict):\n",
    "    \"\"\" generates a csv file from a data set\"\"\"\n",
    "    fieldnames = ['name'] + data_dict.itervalues().next().keys()\n",
    "    with open('data.csv', 'w') as csvfile:\n",
    "        writer = csv.DictWriter(csvfile, fieldnames=fieldnames)\n",
    "        writer.writeheader()\n",
    "        for record in data_dict:\n",
    "            person = data_dict[record]\n",
    "            person['name'] = record\n",
    "            assert set(person.keys()) == set(fieldnames)\n",
    "            writer.writerow(person)"
   ]
  },
  {
   "cell_type": "markdown",
   "metadata": {},
   "source": [
    "### 1.1.1 Dataset Exploration"
   ]
  },
  {
   "cell_type": "code",
   "execution_count": 6,
   "metadata": {},
   "outputs": [
    {
     "name": "stdout",
     "output_type": "stream",
     "text": [
      "# Exploratory Data Analysis #\n",
      "Total number of data points: 146\n",
      "Number of Persons of Interest: 18\n",
      "Number of people without Person of Interest label: 128\n"
     ]
    }
   ],
   "source": [
    "print('# Exploratory Data Analysis #')\n",
    "data_dict.keys()\n",
    "print('Total number of data points: %d' % len(data_dict.keys()))\n",
    "num_poi = 0\n",
    "for name in data_dict.keys():\n",
    "    if data_dict[name]['poi'] == True:\n",
    "        num_poi += 1\n",
    "print('Number of Persons of Interest: %d' % num_poi)\n",
    "print('Number of people without Person of Interest label: %d' % (len(data_dict.keys()) - num_poi))"
   ]
  },
  {
   "cell_type": "markdown",
   "metadata": {},
   "source": [
    "### 1.1.2 Feature Exploration"
   ]
  },
  {
   "cell_type": "code",
   "execution_count": 7,
   "metadata": {},
   "outputs": [
    {
     "name": "stdout",
     "output_type": "stream",
     "text": [
      "Each person has 21 features available\n"
     ]
    }
   ],
   "source": [
    "all_features = data_dict['ALLEN PHILLIP K'].keys()\n",
    "print('Each person has %d features available' %  len(all_features))\n",
    "### Evaluate dataset for completeness\n",
    "missing_values = {}\n",
    "for feature in all_features:\n",
    "    missing_values[feature] = 0\n",
    "for person in data_dict.keys():\n",
    "    records = 0\n",
    "    for feature in all_features:\n",
    "        if data_dict[person][feature] == 'NaN':\n",
    "            missing_values[feature] += 1\n",
    "        else:\n",
    "            records += 1"
   ]
  },
  {
   "cell_type": "markdown",
   "metadata": {},
   "source": [
    "### Print results of completeness analysis"
   ]
  },
  {
   "cell_type": "code",
   "execution_count": 8,
   "metadata": {},
   "outputs": [
    {
     "name": "stdout",
     "output_type": "stream",
     "text": [
      "Number of Missing Values for Each Feature:\n",
      "loan_advances 142\n",
      "director_fees 129\n",
      "restricted_stock_deferred 128\n",
      "deferral_payments 107\n",
      "deferred_income 97\n",
      "long_term_incentive 80\n",
      "bonus 64\n",
      "to_messages 60\n",
      "from_poi_to_this_person 60\n",
      "from_messages 60\n",
      "from_this_person_to_poi 60\n",
      "shared_receipt_with_poi 60\n",
      "other 53\n",
      "salary 51\n",
      "expenses 51\n",
      "exercised_stock_options 44\n",
      "restricted_stock 36\n",
      "email_address 35\n",
      "total_payments 21\n",
      "total_stock_value 20\n",
      "poi 0\n"
     ]
    }
   ],
   "source": [
    "print('Number of Missing Values for Each Feature:')\n",
    "\n",
    "#sorted(missing_values.values())\n",
    "\n",
    "#for feature in all_features:\n",
    "   # print(\"%s: %d\" % (feature, sorted(missing_values.values())[feature])\n",
    "\n",
    "\n",
    "for id in sorted(missing_values, key = missing_values.get, reverse = True):\n",
    "          print(id, missing_values[id])\n"
   ]
  },
  {
   "cell_type": "markdown",
   "metadata": {},
   "source": [
    "=> classification,we have here unblanced target. \n",
    "Maybe Smot methodology ? "
   ]
  },
  {
   "cell_type": "markdown",
   "metadata": {},
   "source": [
    "## Task 2: Remove outliers"
   ]
  },
  {
   "cell_type": "code",
   "execution_count": 9,
   "metadata": {},
   "outputs": [],
   "source": [
    "def PlotOutlier(data_dict, feature_x, feature_y):\n",
    "    \"\"\" Plot with flag = True in Red \"\"\"\n",
    "    data = featureFormat(data_dict, [feature_x, feature_y, 'poi'])\n",
    "    for point in data:\n",
    "        x = point[0]\n",
    "        y = point[1]\n",
    "        poi = point[2]\n",
    "        if poi:\n",
    "            color = 'red'\n",
    "        else:\n",
    "            color = 'blue'\n",
    "        plt.scatter(x, y, color=color)\n",
    "    plt.xlabel(feature_x)\n",
    "    plt.ylabel(feature_y)\n",
    "    plt.show()"
   ]
  },
  {
   "cell_type": "markdown",
   "metadata": {},
   "source": [
    "### 2.1 Visualise outliers"
   ]
  },
  {
   "cell_type": "code",
   "execution_count": 10,
   "metadata": {},
   "outputs": [
    {
     "data": {
      "image/png": "[encoded data removed]",
      "text/plain": [
       "<Figure size 432x288 with 1 Axes>"
      ]
     },
     "metadata": {
      "needs_background": "light"
     },
     "output_type": "display_data"
    },
    {
     "name": "stdout",
     "output_type": "stream",
     "text": [
      "None\n"
     ]
    },
    {
     "data": {
      "image/png": "[encoded data removed]",
      "text/plain": [
       "<Figure size 432x288 with 1 Axes>"
      ]
     },
     "metadata": {
      "needs_background": "light"
     },
     "output_type": "display_data"
    },
    {
     "name": "stdout",
     "output_type": "stream",
     "text": [
      "None\n"
     ]
    },
    {
     "data": {
      "image/png": "[encoded data removed]",
      "text/plain": [
       "<Figure size 432x288 with 1 Axes>"
      ]
     },
     "metadata": {
      "needs_background": "light"
     },
     "output_type": "display_data"
    },
    {
     "name": "stdout",
     "output_type": "stream",
     "text": [
      "None\n"
     ]
    },
    {
     "data": {
      "text/plain": [
       "{'salary': 26704229,\n",
       " 'to_messages': 'NaN',\n",
       " 'deferral_payments': 32083396,\n",
       " 'total_payments': 309886585,\n",
       " 'loan_advances': 83925000,\n",
       " 'bonus': 97343619,\n",
       " 'email_address': 'NaN',\n",
       " 'restricted_stock_deferred': -7576788,\n",
       " 'deferred_income': -27992891,\n",
       " 'total_stock_value': 434509511,\n",
       " 'expenses': 5235198,\n",
       " 'from_poi_to_this_person': 'NaN',\n",
       " 'exercised_stock_options': 311764000,\n",
       " 'from_messages': 'NaN',\n",
       " 'other': 42667589,\n",
       " 'from_this_person_to_poi': 'NaN',\n",
       " 'poi': False,\n",
       " 'long_term_incentive': 48521928,\n",
       " 'shared_receipt_with_poi': 'NaN',\n",
       " 'restricted_stock': 130322299,\n",
       " 'director_fees': 1398517}"
      ]
     },
     "execution_count": 10,
     "metadata": {},
     "output_type": "execute_result"
    }
   ],
   "source": [
    "print(PlotOutlier(data_dict, 'total_payments', 'total_stock_value'))\n",
    "print(PlotOutlier(data_dict, 'from_poi_to_this_person', 'from_this_person_to_poi'))\n",
    "print(PlotOutlier(data_dict, 'salary', 'bonus'))\n",
    "#Remove outlier TOTAL line in pickle file.\n",
    "data_dict.pop( 'TOTAL', 0 )"
   ]
  },
  {
   "cell_type": "markdown",
   "metadata": {},
   "source": [
    "### 2.2 Function to remove outliers"
   ]
  },
  {
   "cell_type": "code",
   "execution_count": 11,
   "metadata": {},
   "outputs": [],
   "source": [
    "def remove_outlier(dict_object, keys):\n",
    "    \"\"\" removes list of outliers keys from dict object \"\"\"\n",
    "    for key in keys:\n",
    "        dict_object.pop(key, 0)\n",
    "\n",
    "outliers = ['TOTAL', 'THE TRAVEL AGENCY IN THE PARK', 'LOCKHART EUGENE E']\n",
    "remove_outlier(data_dict, outliers)"
   ]
  },
  {
   "cell_type": "markdown",
   "metadata": {},
   "source": [
    "### Task 3: Create new feature(s)"
   ]
  },
  {
   "cell_type": "markdown",
   "metadata": {},
   "source": [
    "### 3.1 create new copies of dataset for grading"
   ]
  },
  {
   "cell_type": "code",
   "execution_count": 12,
   "metadata": {},
   "outputs": [],
   "source": [
    "my_dataset = data_dict"
   ]
  },
  {
   "cell_type": "markdown",
   "metadata": {},
   "source": [
    "### 3.2 add new features to dataset"
   ]
  },
  {
   "cell_type": "code",
   "execution_count": 13,
   "metadata": {},
   "outputs": [],
   "source": [
    "def compute_fraction(x, y):\n",
    "    \"\"\" return fraction of messages from/to that person to/from POI\"\"\"    \n",
    "    if x == 'NaN' or y == 'NaN':\n",
    "        return 0.\n",
    "    if x == 0 or y == 0: \n",
    "        return 0\n",
    "    fraction = x / y\n",
    "    return fraction\n",
    "\n",
    "def compute_ratio(poi_from, poi_to,messages_from, messages_to):\n",
    "    \"\"\" return fraction of messages from/to that person to/from POI\"\"\"    \n",
    "    if poi_from == 'NaN' or poi_to == 'NaN' or messages_from =='NaN' or messages_to=='NaN':\n",
    "        return 0.\n",
    "    fraction =  (poi_from + poi_to)/(messages_from + messages_to)\n",
    "    return fraction"
   ]
  },
  {
   "cell_type": "markdown",
   "metadata": {},
   "source": [
    "By doing further research on the data and its source, we have learned that NaN values in financial and stock columns do not mean a lack of information but a zero value. So we will for each one of its columns replaced the NaN values by zeros."
   ]
  },
  {
   "cell_type": "code",
   "execution_count": 14,
   "metadata": {},
   "outputs": [],
   "source": [
    "for name in my_dataset:\n",
    "    data_point = my_dataset[name]\n",
    "    NaN_value = 0\n",
    "    if data_point['deferral_payments'] == 'NaN' :\n",
    "        data_point['deferral_payments'] = NaN_value\n",
    "        \n",
    "    if data_point['total_payments'] == 'NaN' :\n",
    "        data_point['total_payments'] = NaN_value\n",
    "           \n",
    "    if data_point['loan_advances'] == 'NaN':\n",
    "        data_point['loan_advances'] = NaN_value\n",
    "        \n",
    "    if data_point['bonus'] == 'NaN' :\n",
    "        data_point['bonus'] = NaN_value\n",
    "        \n",
    "    if data_point['restricted_stock_deferred'] == 'NaN':\n",
    "        data_point['restricted_stock_deferred'] = NaN_value\n",
    "    \n",
    "    if data_point['total_stock_value'] == 'NaN' :\n",
    "        data_point['total_stock_value'] = NaN_value\n",
    "        \n",
    "    if data_point['expenses'] == 'NaN' :\n",
    "        data_point['expenses'] = NaN_value\n",
    "        \n",
    "    if data_point['exercised_stock_options'] == 'NaN' :\n",
    "        data_point['exercised_stock_options'] = NaN_value   \n",
    "        \n",
    "    if data_point['long_term_incentive'] == 'NaN' :\n",
    "        data_point['long_term_incentive'] = NaN_value\n",
    "    \n",
    "    if data_point['director_fees'] == 'NaN' :\n",
    "        data_point['director_fees'] = NaN_value\n",
    "    \n",
    "    if data_point['director_fees'] == 'NaN' :\n",
    "        data_point['director_fees'] = NaN_value"
   ]
  },
  {
   "cell_type": "markdown",
   "metadata": {},
   "source": [
    "Thanks to our research, we were able to identify FREVERT MARK A,LAVORATO JOHN J,WHALLEY LAWRENCE G and BAXTER JOHN C in the board of directors, nevertheless these 3 people are not POI. Therefore, we can anticipate that their very high financial data will distort our results in the future, and it is preferable to remove them from the dataset. "
   ]
  },
  {
   "cell_type": "code",
   "execution_count": 15,
   "metadata": {},
   "outputs": [
    {
     "data": {
      "text/plain": [
       "{'salary': 267102,\n",
       " 'to_messages': 'NaN',\n",
       " 'deferral_payments': 1295738,\n",
       " 'total_payments': 5634343,\n",
       " 'loan_advances': 0,\n",
       " 'bonus': 1200000,\n",
       " 'email_address': 'NaN',\n",
       " 'restricted_stock_deferred': 0,\n",
       " 'deferred_income': -1386055,\n",
       " 'total_stock_value': 10623258,\n",
       " 'expenses': 11200,\n",
       " 'from_poi_to_this_person': 'NaN',\n",
       " 'exercised_stock_options': 6680544,\n",
       " 'from_messages': 'NaN',\n",
       " 'other': 2660303,\n",
       " 'from_this_person_to_poi': 'NaN',\n",
       " 'poi': False,\n",
       " 'long_term_incentive': 1586055,\n",
       " 'shared_receipt_with_poi': 'NaN',\n",
       " 'restricted_stock': 3942714,\n",
       " 'director_fees': 0}"
      ]
     },
     "execution_count": 15,
     "metadata": {},
     "output_type": "execute_result"
    }
   ],
   "source": [
    "my_dataset.pop('FREVERT MARK A')\n",
    "my_dataset.pop('LAVORATO JOHN J')\n",
    "my_dataset.pop('WHALLEY LAWRENCE G')\n",
    "my_dataset.pop('BAXTER JOHN C')"
   ]
  },
  {
   "cell_type": "markdown",
   "metadata": {},
   "source": [
    "In addition, we decided to replace the NaN values in the message columns with the average based on POI and non-POI employees. This will allow us to feed more information to our models. "
   ]
  },
  {
   "cell_type": "code",
   "execution_count": 16,
   "metadata": {},
   "outputs": [],
   "source": [
    "cnt_from_poi_to_this_person =0\n",
    "cnt_from_this_person_to_poi=0\n",
    "cnt_to_messages =0\n",
    "cnt_from_messages =0\n",
    "cnt_shared_receipt_with_poi = 0\n",
    "\n",
    "cnt_poi_from_poi_to_this_person =0\n",
    "cnt_poi_from_this_person_to_poi=0\n",
    "cnt_poi_to_messages =0\n",
    "cnt_poi_from_messages =0\n",
    "cnt_poi_shared_receipt_with_poi = 0\n",
    "\n",
    "sum_poi_from_poi_to_this_person =0\n",
    "sum_poi_from_this_person_to_poi=0\n",
    "sum_poi_to_messages =0\n",
    "sum_poi_from_messages =0\n",
    "sum_shared_receipt_with_poi = 0\n",
    "\n",
    "sum_from_poi_to_this_person =0\n",
    "sum_from_this_person_to_poi=0\n",
    "sum_to_messages =0\n",
    "sum_from_messages =0\n",
    "sum_poi_shared_receipt_with_poi = 0\n",
    "    \n",
    "for name in my_dataset:\n",
    "    \n",
    "    data_point = my_dataset[name]\n",
    "    from_poi_to_this_person = data_point[\"from_poi_to_this_person\"]\n",
    "    from_messages = data_point['from_messages']\n",
    "    to_messages = data_point['to_messages']\n",
    "    from_this_person_to_poi = data_point[\"from_this_person_to_poi\"]\n",
    "    poi = data_point[\"poi\"]\n",
    "    shared_receipt_with_poi = data_point[\"shared_receipt_with_poi\"]\n",
    "    \n",
    "    if from_messages != 'NaN' and poi ==False:\n",
    "        cnt_from_messages += 1\n",
    "        sum_from_messages += from_messages\n",
    "    elif from_messages != 'NaN' and poi ==True:\n",
    "        cnt_poi_from_messages +=1\n",
    "        sum_poi_from_messages += from_messages\n",
    "    \n",
    "    if to_messages != 'NaN' and poi ==False:\n",
    "        cnt_to_messages += 1\n",
    "        sum_to_messages += to_messages\n",
    "    elif to_messages != 'NaN' and poi ==True:\n",
    "        cnt_poi_to_messages +=1\n",
    "        sum_poi_to_messages += to_messages\n",
    "    \n",
    "    if from_poi_to_this_person != 'NaN' and poi ==False:\n",
    "        cnt_from_poi_to_this_person += 1\n",
    "        sum_from_poi_to_this_person += from_poi_to_this_person\n",
    "    elif from_messages != 'NaN' and poi ==True:\n",
    "        cnt_poi_from_poi_to_this_person +=1\n",
    "        sum_poi_from_poi_to_this_person+= from_poi_to_this_person\n",
    "    \n",
    "    if from_this_person_to_poi != 'NaN' and poi ==False:\n",
    "        cnt_from_this_person_to_poi += 1\n",
    "        sum_from_this_person_to_poi += from_this_person_to_poi \n",
    "    elif from_messages != 'NaN' and poi ==True:\n",
    "        cnt_poi_from_this_person_to_poi +=1\n",
    "        sum_poi_from_this_person_to_poi += from_this_person_to_poi \n",
    "        \n",
    "    if shared_receipt_with_poi != 'NaN' and poi ==False:\n",
    "        cnt_shared_receipt_with_poi += 1\n",
    "        sum_shared_receipt_with_poi += shared_receipt_with_poi\n",
    "    elif shared_receipt_with_poi != 'NaN' and poi ==True:\n",
    "        cnt_poi_shared_receipt_with_poi +=1\n",
    "        sum_poi_shared_receipt_with_poi += shared_receipt_with_poi\n",
    "        \n",
    "        \n",
    "mean_from_poi_to_this_person = compute_fraction(sum_from_poi_to_this_person,cnt_from_poi_to_this_person)\n",
    "mean_from_this_person_to_poi= compute_fraction(sum_from_this_person_to_poi, cnt_from_this_person_to_poi)\n",
    "mean_to_messages =compute_fraction(sum_to_messages,cnt_to_messages)\n",
    "mean_from_messages =compute_fraction(sum_from_messages,cnt_from_messages)\n",
    "mean_shared_receipt_with_poi = compute_fraction(sum_shared_receipt_with_poi,cnt_shared_receipt_with_poi)\n",
    "\n",
    "mean_poi_from_poi_to_this_person = compute_fraction(sum_poi_from_poi_to_this_person,cnt_poi_from_poi_to_this_person)\n",
    "mean_poi_from_this_person_to_poi= compute_fraction(sum_poi_from_this_person_to_poi, cnt_poi_from_this_person_to_poi)\n",
    "mean_poi_to_messages =compute_fraction(sum_poi_to_messages,cnt_poi_to_messages)\n",
    "mean_poi_from_messages =compute_fraction(sum_poi_from_messages,cnt_poi_from_messages)\n",
    "mean_poi_shared_receipt_with_poi = compute_fraction(sum_poi_shared_receipt_with_poi,cnt_poi_shared_receipt_with_poi)\n",
    "\n",
    "for name in my_dataset:\n",
    "    \n",
    "    data_point = my_dataset[name]\n",
    "    from_poi_to_this_person = data_point[\"from_poi_to_this_person\"]\n",
    "    from_messages = data_point['from_messages']\n",
    "    to_messages = data_point['to_messages']\n",
    "    from_this_person_to_poi = data_point[\"from_this_person_to_poi\"]\n",
    "    shared_receipt_with_poi = data_point[\"shared_receipt_with_poi\"]\n",
    "    poi = data_point[\"poi\"]\n",
    "    \n",
    "    if from_messages == 'NaN' and poi ==False:\n",
    "        data_point[\"from_messages\"] = mean_from_messages\n",
    "    elif from_messages == 'NaN' and poi ==True:\n",
    "        data_point[\"from_messages\"] = mean_poi_from_messages\n",
    "        \n",
    "    if to_messages == 'NaN' and poi ==False:\n",
    "        data_point[\"to_messages\"]== mean_to_messages\n",
    "    elif to_messages == 'NaN' and poi ==True:\n",
    "        data_point[\"to_messages\"] = mean_poi_to_messages\n",
    "    \n",
    "    if from_poi_to_this_person == 'NaN' and poi ==False:\n",
    "        data_point[\"from_poi_to_this_person\"]  =mean_from_poi_to_this_person\n",
    "    elif from_messages == 'NaN' and poi ==True:\n",
    "        data_point[\"from_poi_to_this_person\"]  = mean_poi_from_poi_to_this_person\n",
    "    \n",
    "    if from_this_person_to_poi == 'NaN' and poi ==False:\n",
    "        data_point[\"from_this_person_to_poi\"]  =mean_from_this_person_to_poi\n",
    "    elif from_messages == 'NaN' and poi ==True:\n",
    "        data_point[\"from_this_person_to_poi\"]= mean_poi_from_this_person_to_poi\n",
    "        \n",
    "    if shared_receipt_with_poi == 'NaN' and poi ==False:\n",
    "        data_point[\"shared_receipt_with_poi\"]  =  mean_shared_receipt_with_poi\n",
    "    elif from_messages == 'NaN' and poi ==True:\n",
    "        data_point[\"shared_receipt_with_poi\"]= mean_poi_shared_receipt_with_poi \n",
    "        "
   ]
  },
  {
   "cell_type": "code",
   "execution_count": 17,
   "metadata": {},
   "outputs": [
    {
     "name": "stdout",
     "output_type": "stream",
     "text": [
      "47.18840579710145 31.463768115942027 1854.4782608695652 652.0144927536232\n",
      "97.78571428571429 66.71428571428571 2417.1428571428573 300.35714285714283\n"
     ]
    }
   ],
   "source": [
    "print(mean_from_poi_to_this_person , mean_from_this_person_to_poi, mean_to_messages , mean_from_messages)\n",
    "print(mean_poi_from_poi_to_this_person , mean_poi_from_this_person_to_poi , mean_poi_to_messages,mean_poi_from_messages )"
   ]
  },
  {
   "cell_type": "markdown",
   "metadata": {},
   "source": [
    "We add new ratio features :\n",
    "    \n",
    "1. shared_recepeit with poi\n",
    "2. bonus_to_salary\n",
    "3. payments_to_salary\n",
    "4. ratio mess\n",
    "5. exercised_stock_options\n",
    "6. bonus_to_total"
   ]
  },
  {
   "cell_type": "code",
   "execution_count": 18,
   "metadata": {},
   "outputs": [],
   "source": [
    "for name in my_dataset:\n",
    "    data_point = my_dataset[name]\n",
    "    from_poi_to_this_person = data_point[\"from_poi_to_this_person\"]\n",
    "    to_messages = data_point[\"to_messages\"]\n",
    "    fraction_from_poi = compute_fraction(from_poi_to_this_person, to_messages)\n",
    "    data_point[\"fraction_from_poi\"] = fraction_from_poi\n",
    "    from_this_person_to_poi = data_point[\"from_this_person_to_poi\"]\n",
    "    from_messages = data_point[\"from_messages\"]\n",
    "    fraction_to_poi = compute_fraction(from_this_person_to_poi, from_messages)\n",
    "    data_point[\"fraction_to_poi\"] = fraction_to_poi\n",
    "    \n",
    "    shared_receipt_with_poi = data_point[\"shared_receipt_with_poi\"]\n",
    "    shared_receipt_poi_ratio = compute_fraction(shared_receipt_with_poi, to_messages)\n",
    "    data_point[\"shared_receipt_poi_ratio\"] = shared_receipt_poi_ratio\n",
    "    \n",
    "    bonus= data_point[\"bonus\"]\n",
    "    salary = data_point[\"salary\"]\n",
    "    bonus_to_salary = compute_fraction(bonus, salary)\n",
    "    data_point[\"bonus_to_salary\"] = bonus_to_salary  \n",
    "    \n",
    "    total_payments = data_point[\"total_payments\"]\n",
    "    bonus_to_total = compute_fraction(bonus, total_payments)\n",
    "    data_point[\"bonus_to_total\"] = bonus_to_total \n",
    "    \n",
    "    exercised_stock_options= data_point[\"exercised_stock_options\"]\n",
    "    total_stock_value= data_point[\"total_stock_value\"]\n",
    "    exercised_stock_options_ratio = compute_fraction(exercised_stock_options, total_stock_value)\n",
    "    data_point[\"exercised_stock_options_ratio\"] = exercised_stock_options_ratio  \n",
    "    \n",
    "    ratio_mess= compute_ratio(from_poi_to_this_person, from_this_person_to_poi,from_messages, to_messages)\n",
    "    data_point[\"ratio_mess\"] = ratio_mess "
   ]
  },
  {
   "cell_type": "markdown",
   "metadata": {},
   "source": [
    "Finally, while inquiring we found the members of the board and we wanted to add a feature where we indicate on a person is part of the board."
   ]
  },
  {
   "cell_type": "code",
   "execution_count": 19,
   "metadata": {},
   "outputs": [],
   "source": [
    "for name in my_dataset:\n",
    "    data_point = my_dataset[name]\n",
    "    direction = 0 \n",
    "    data_point[\"direction\"] = direction "
   ]
  },
  {
   "cell_type": "code",
   "execution_count": 20,
   "metadata": {},
   "outputs": [],
   "source": [
    "list_direction2 = [\"LAY KENNETH L\",\"SKILLING JEFFREY K\"]\n",
    "list_direction1 = [\"BUY RICHARD B\",\"CAUSEY RICHARD A\",\"DERRICK JR. JAMES V\",\"KEAN STEVEN J\",\"KOENIG MARK E\",\"METTS MARK\",\"FASTOW ANDREW S\",\"BAXTER JOHN C\",\"HORTON STANLEY C\",\"FREVERT MARK A\",\"WHALLEY LAWRENCE G\",\"PAI LOU L\",\"WHITE JR THOMAS E\",\"HIRKO JOSEPH\",\"RICE KENNETH D\"]\n",
    "data_point = my_dataset[name]\n",
    "for name in my_dataset : \n",
    "    for item in list_direction1 :\n",
    "        if name == item : \n",
    "            direction = 1\n",
    "            my_dataset[name]['direction'] = direction\n",
    "    for item2 in list_direction2 :\n",
    "        if name == item2 : \n",
    "            direction = 2\n",
    "            my_dataset[name]['direction'] = direction\n"
   ]
  },
  {
   "cell_type": "markdown",
   "metadata": {},
   "source": [
    "### 3.3 create new copies of feature list for grading"
   ]
  },
  {
   "cell_type": "code",
   "execution_count": 21,
   "metadata": {},
   "outputs": [],
   "source": [
    "my_feature_list = features_list +[ 'fraction_to_poi','shared_receipt_poi_ratio','bonus_to_salary','bonus_to_total','direction','ratio_mess','exercised_stock_options_ratio']"
   ]
  },
  {
   "cell_type": "code",
   "execution_count": 22,
   "metadata": {},
   "outputs": [
    {
     "data": {
      "text/plain": [
       "['poi',\n",
       " 'bonus',\n",
       " 'deferral_payments',\n",
       " 'deferred_income',\n",
       " 'director_fees',\n",
       " 'exercised_stock_options',\n",
       " 'expenses',\n",
       " 'loan_advances',\n",
       " 'long_term_incentive',\n",
       " 'other',\n",
       " 'restricted_stock',\n",
       " 'restricted_stock_deferred',\n",
       " 'salary',\n",
       " 'total_payments',\n",
       " 'total_stock_value',\n",
       " 'from_messages',\n",
       " 'from_poi_to_this_person',\n",
       " 'from_this_person_to_poi',\n",
       " 'shared_receipt_with_poi',\n",
       " 'to_messages']"
      ]
     },
     "execution_count": 22,
     "metadata": {},
     "output_type": "execute_result"
    }
   ],
   "source": [
    "features_list"
   ]
  },
  {
   "cell_type": "markdown",
   "metadata": {},
   "source": [
    "### 3.4 get K-best features"
   ]
  },
  {
   "cell_type": "code",
   "execution_count": 23,
   "metadata": {},
   "outputs": [],
   "source": [
    "num_features = 10"
   ]
  },
  {
   "cell_type": "markdown",
   "metadata": {},
   "source": [
    "### 3.5 function using SelectKBest"
   ]
  },
  {
   "cell_type": "code",
   "execution_count": 24,
   "metadata": {},
   "outputs": [],
   "source": [
    "def get_k_best(data_dict, features_list, k):\n",
    "    \"\"\" runs scikit-learn's SelectKBest feature selection\n",
    "        returns dict where keys=features, values=scores\n",
    "    \"\"\"\n",
    "    data = featureFormat(data_dict, features_list)\n",
    "    labels, features = targetFeatureSplit(data)\n",
    "    k_best = SelectKBest(k=k)\n",
    "    k_best.fit(features, labels)\n",
    "    scores = k_best.scores_\n",
    "    print(scores)\n",
    "    unsorted_pairs = zip(features_list[1:], scores)\n",
    "    sorted_pairs = list(reversed(sorted(unsorted_pairs, key=lambda x: x[1])))\n",
    "    k_best_features = dict(sorted_pairs[:k])\n",
    "    print (\"{0} best features: {1}\\n\".format(k, k_best_features.keys(), scores))\n",
    "    return k_best_features"
   ]
  },
  {
   "cell_type": "markdown",
   "metadata": {},
   "source": [
    "=> Maybe appropriate stat test for classification. "
   ]
  },
  {
   "cell_type": "code",
   "execution_count": 25,
   "metadata": {},
   "outputs": [
    {
     "name": "stdout",
     "output_type": "stream",
     "text": [
      "[3.57816913e+01 6.23357612e-02 1.69571949e+01 2.20445373e+00\n",
      " 2.65605672e+01 6.27032312e+00 7.00482086e+00 1.25623996e+01\n",
      " 7.79759949e+00 1.03730946e+01 6.76455637e-02 2.51041513e+01\n",
      " 9.53332413e+00 2.64658715e+01 9.40072407e-01 1.58934237e+01\n",
      " 3.82537238e+00 1.65350818e+01 6.39951658e+00 2.58998284e+01\n",
      " 2.66240943e+01 1.67813465e+01 2.06120518e+01 2.78013676e+01\n",
      " 1.41779001e+01 2.19449948e-02]\n",
      "10 best features: dict_keys(['bonus', 'direction', 'shared_receipt_poi_ratio', 'exercised_stock_options', 'total_stock_value', 'fraction_to_poi', 'salary', 'bonus_to_total', 'deferred_income', 'bonus_to_salary'])\n",
      "\n"
     ]
    }
   ],
   "source": [
    "best_features = get_k_best(my_dataset, my_feature_list, num_features)\n",
    "my_feature_list = [target_label] + list(set(best_features.keys()))"
   ]
  },
  {
   "cell_type": "markdown",
   "metadata": {},
   "source": [
    "### 3.6 print features"
   ]
  },
  {
   "cell_type": "code",
   "execution_count": 26,
   "metadata": {},
   "outputs": [
    {
     "name": "stdout",
     "output_type": "stream",
     "text": [
      "10 selected features: ['shared_receipt_poi_ratio', 'direction', 'total_stock_value', 'exercised_stock_options', 'salary', 'bonus', 'fraction_to_poi', 'bonus_to_total', 'deferred_income', 'bonus_to_salary']\n",
      "\n"
     ]
    }
   ],
   "source": [
    "print (\"{0} selected features: {1}\\n\".format(len(my_feature_list) - 1, my_feature_list[1:]))\n"
   ]
  },
  {
   "cell_type": "markdown",
   "metadata": {},
   "source": [
    "### 3.7 extract the features specified in features_list\n"
   ]
  },
  {
   "cell_type": "code",
   "execution_count": 27,
   "metadata": {},
   "outputs": [],
   "source": [
    "data = featureFormat(my_dataset, my_feature_list,sort_keys = True)"
   ]
  },
  {
   "cell_type": "markdown",
   "metadata": {},
   "source": [
    "split into labels and features"
   ]
  },
  {
   "cell_type": "code",
   "execution_count": 28,
   "metadata": {},
   "outputs": [],
   "source": [
    "labels, features = targetFeatureSplit(data)"
   ]
  },
  {
   "cell_type": "markdown",
   "metadata": {},
   "source": [
    "### 3.8 scale features via min-max"
   ]
  },
  {
   "cell_type": "code",
   "execution_count": 29,
   "metadata": {},
   "outputs": [],
   "source": [
    "from sklearn import preprocessing\n",
    "scaler = preprocessing.MinMaxScaler()\n",
    "features = scaler.fit_transform(features)"
   ]
  },
  {
   "cell_type": "markdown",
   "metadata": {},
   "source": [
    "## Task 4: Using algorithm"
   ]
  },
  {
   "cell_type": "markdown",
   "metadata": {},
   "source": [
    "Please name your classifier clf for easy export below.   \n",
    "Note that if you want to do PCA or other multi-stage operations,    \n",
    "you'll need to use Pipelines. For more info:    \n",
    "http://scikit-learn.org/stable/modules/pipeline.html     \n",
    "\n",
    "Provided to give you a starting point. Try a variety of classifiers.   "
   ]
  },
  {
   "cell_type": "markdown",
   "metadata": {},
   "source": [
    "### 4.1  Gaussian Naive Bayes Classifier"
   ]
  },
  {
   "cell_type": "code",
   "execution_count": 30,
   "metadata": {},
   "outputs": [],
   "source": [
    "from sklearn.naive_bayes import GaussianNB\n",
    "g_clf = GaussianNB()"
   ]
  },
  {
   "cell_type": "markdown",
   "metadata": {},
   "source": [
    "### 4.2  Logistic Regression Classifier\n"
   ]
  },
  {
   "cell_type": "code",
   "execution_count": 31,
   "metadata": {},
   "outputs": [],
   "source": [
    "from sklearn.linear_model import LogisticRegression"
   ]
  },
  {
   "cell_type": "code",
   "execution_count": 32,
   "metadata": {},
   "outputs": [],
   "source": [
    "l_clf = Pipeline(steps= [\n",
    "        ('scaler', StandardScaler()),\n",
    "        ('classifier', LogisticRegression(C=1e-08, class_weight=None, dual=False, fit_intercept=True, intercept_scaling=1, \n",
    "max_iter=100, multi_class='ovr', penalty='l2', random_state=42, solver='liblinear', tol=0.001, verbose=0))])"
   ]
  },
  {
   "cell_type": "markdown",
   "metadata": {},
   "source": [
    "### 4.3  K-means Clustering"
   ]
  },
  {
   "cell_type": "code",
   "execution_count": 33,
   "metadata": {},
   "outputs": [],
   "source": [
    "from sklearn.cluster import KMeans\n",
    "k_clf = KMeans(n_clusters=2, tol=0.001)"
   ]
  },
  {
   "cell_type": "markdown",
   "metadata": {},
   "source": [
    "### 4.4 Support Vector Machine Classifier"
   ]
  },
  {
   "cell_type": "code",
   "execution_count": 34,
   "metadata": {},
   "outputs": [],
   "source": [
    "from sklearn.svm import SVC\n",
    "s_clf = SVC(kernel='rbf', C=1000,gamma = 0.0001,random_state = 42, class_weight = 'balanced')"
   ]
  },
  {
   "cell_type": "markdown",
   "metadata": {},
   "source": [
    "### 4.5 Random Forest\n"
   ]
  },
  {
   "cell_type": "code",
   "execution_count": 35,
   "metadata": {},
   "outputs": [],
   "source": [
    "from sklearn.ensemble import RandomForestClassifier\n",
    "rf_clf = RandomForestClassifier(max_depth = 5,max_features = 'sqrt',n_estimators = 10, random_state = 42)"
   ]
  },
  {
   "cell_type": "markdown",
   "metadata": {},
   "source": [
    "### 4.6 Gradient Boosting Classifier"
   ]
  },
  {
   "cell_type": "code",
   "execution_count": 36,
   "metadata": {},
   "outputs": [],
   "source": [
    "from sklearn.ensemble  import GradientBoostingClassifier\n",
    "gb_clf = GradientBoostingClassifier(loss='deviance', learning_rate=0.1, n_estimators=10,random_state = 42)"
   ]
  },
  {
   "cell_type": "markdown",
   "metadata": {},
   "source": [
    "### 4.7 Decision Tree Classifier"
   ]
  },
  {
   "cell_type": "code",
   "execution_count": 37,
   "metadata": {},
   "outputs": [],
   "source": [
    "from sklearn.tree import DecisionTreeClassifier"
   ]
  },
  {
   "cell_type": "code",
   "execution_count": 38,
   "metadata": {},
   "outputs": [],
   "source": [
    "tre_clf=DecisionTreeClassifier(random_state=42)"
   ]
  },
  {
   "cell_type": "markdown",
   "metadata": {},
   "source": [
    "### 4.8 KNeighborsClassifier"
   ]
  },
  {
   "cell_type": "code",
   "execution_count": 39,
   "metadata": {},
   "outputs": [],
   "source": [
    "from sklearn.neighbors import KNeighborsClassifier"
   ]
  },
  {
   "cell_type": "code",
   "execution_count": 40,
   "metadata": {},
   "outputs": [],
   "source": [
    "knn_clf = KNeighborsClassifier(n_neighbors=3)"
   ]
  },
  {
   "cell_type": "markdown",
   "metadata": {},
   "source": [
    "### 4.9 Perceptron"
   ]
  },
  {
   "cell_type": "code",
   "execution_count": 41,
   "metadata": {},
   "outputs": [],
   "source": [
    "from sklearn.linear_model import Perceptron\n",
    "pe_clf= Perceptron(max_iter=5)"
   ]
  },
  {
   "cell_type": "markdown",
   "metadata": {},
   "source": [
    "### 4.10 MLP Perceptron"
   ]
  },
  {
   "cell_type": "code",
   "execution_count": 42,
   "metadata": {},
   "outputs": [],
   "source": [
    "from sklearn.neural_network import MLPClassifier"
   ]
  },
  {
   "cell_type": "code",
   "execution_count": 43,
   "metadata": {},
   "outputs": [],
   "source": [
    "mlp_clf = MLPClassifier(random_state=1)"
   ]
  },
  {
   "cell_type": "markdown",
   "metadata": {},
   "source": [
    "### 4.9 evaluate function\n"
   ]
  },
  {
   "cell_type": "code",
   "execution_count": 44,
   "metadata": {},
   "outputs": [],
   "source": [
    "from imblearn.over_sampling import SMOTE\n",
    "from imblearn.combine import SMOTETomek\n",
    "from sklearn.model_selection import StratifiedShuffleSplit\n",
    "sss = StratifiedShuffleSplit(n_splits=1, test_size=0.1, random_state=0)"
   ]
  },
  {
   "cell_type": "code",
   "execution_count": 45,
   "metadata": {},
   "outputs": [],
   "source": [
    "def evaluate_clf(clf, features, labels, num_iters=1000, test_size=0.3):\n",
    "    print (clf)\n",
    "    accuracy = []\n",
    "    precision = []\n",
    "    recall = []\n",
    "    first = True\n",
    "    for trial in range(num_iters):\n",
    "        features_train, features_test, labels_train, labels_test =\\\n",
    "            train_test_split(features, labels, test_size=test_size)\n",
    "        clf.fit(features_train,labels_train)\n",
    "        predictions = clf.predict(features_test)\n",
    "        accuracy.append(accuracy_score(labels_test, predictions))\n",
    "        precision.append(precision_score(labels_test, predictions))\n",
    "        recall.append(recall_score(labels_test, predictions))\n",
    "        if trial % 10 == 0:\n",
    "            if first:\n",
    "                sys.stdout.write('\\nProcessing')\n",
    "            sys.stdout.write('.')\n",
    "            sys.stdout.flush()\n",
    "            first = False\n",
    "\n",
    "    print (\"done.\\n\")\n",
    "    print (\"precision: {}\".format(mean(precision)))\n",
    "    print (\"recall:    {}\".format(mean(recall)))\n",
    "    print (\"accuracy:    {}\".format(mean(accuracy)))\n",
    "    return len(labels_test)\n",
    "    return mean(precision), mean(recall)"
   ]
  },
  {
   "cell_type": "markdown",
   "metadata": {},
   "source": [
    "### 4.8 Evaluate all functions"
   ]
  },
  {
   "cell_type": "code",
   "execution_count": 46,
   "metadata": {},
   "outputs": [
    {
     "name": "stdout",
     "output_type": "stream",
     "text": [
      "GaussianNB()\n",
      "\n",
      "Processing....................................................................................................done.\n",
      "\n",
      "precision: 0.5408384254634254\n",
      "recall:    0.4900288239538239\n",
      "accuracy:    0.8720238095238096\n",
      "Pipeline(steps=[('scaler', StandardScaler()),\n",
      "                ('classifier',\n",
      "                 LogisticRegression(C=1e-08, multi_class='ovr', random_state=42,\n",
      "                                    solver='liblinear', tol=0.001))])\n",
      "\n",
      "Processing....................................................................................................done.\n",
      "\n",
      "precision: 0.4439878495601406\n",
      "recall:    0.7336718253968254\n",
      "accuracy:    0.8413333333333334\n",
      "KMeans(n_clusters=2, tol=0.001)\n",
      "\n",
      "Processing....................................................................................................done.\n",
      "\n",
      "precision: 0.15311829293419346\n",
      "recall:    0.5432833333333333\n",
      "accuracy:    0.5159285714285714\n",
      "SVC(C=1000, class_weight='balanced', gamma=0.0001, random_state=42)\n",
      "\n",
      "Processing....................................................................................................done.\n",
      "\n",
      "precision: 0.28888702277217554\n",
      "recall:    0.9410496031746032\n",
      "accuracy:    0.689\n",
      "RandomForestClassifier(max_depth=5, max_features='sqrt', n_estimators=10,\n",
      "                       random_state=42)\n",
      "\n",
      "Processing....................................................................................................done.\n",
      "\n",
      "precision: 0.6244043650793651\n",
      "recall:    0.3357123737373737\n",
      "accuracy:    0.8882142857142858\n",
      "GradientBoostingClassifier(n_estimators=10, random_state=42)\n",
      "\n",
      "Processing....................................................................................................done.\n",
      "\n",
      "precision: 0.5982803585303587\n",
      "recall:    0.3024699494949495\n",
      "accuracy:    0.8800476190476192\n",
      "DecisionTreeClassifier(random_state=42)\n",
      "\n",
      "Processing....................................................................................................done.\n",
      "\n",
      "precision: 0.48496640026640025\n",
      "recall:    0.476896176046176\n",
      "accuracy:    0.8621190476190478\n",
      "KNeighborsClassifier(n_neighbors=3)\n",
      "\n",
      "Processing....................................................................................................done.\n",
      "\n",
      "precision: 0.30100119047619045\n",
      "recall:    0.15109007936507937\n",
      "accuracy:    0.8535000000000003\n",
      "Perceptron(max_iter=5)\n",
      "\n",
      "Processing....................................................................................................done.\n",
      "\n",
      "precision: 0.5484316844581415\n",
      "recall:    0.4265005772005772\n",
      "accuracy:    0.8517619047619048\n",
      "MLPClassifier(random_state=1)\n",
      "\n",
      "Processing....................................................................................................done.\n",
      "\n",
      "precision: 0.6581130952380951\n",
      "recall:    0.2914318181818182\n",
      "accuracy:    0.8870000000000001\n"
     ]
    },
    {
     "data": {
      "text/plain": [
       "42"
      ]
     },
     "execution_count": 46,
     "metadata": {},
     "output_type": "execute_result"
    }
   ],
   "source": [
    "evaluate_clf(g_clf, features, labels)\n",
    "evaluate_clf(l_clf, features, labels)\n",
    "evaluate_clf(k_clf, features, labels)\n",
    "evaluate_clf(s_clf, features, labels)\n",
    "evaluate_clf(rf_clf, features, labels)\n",
    "evaluate_clf(gb_clf, features, labels)\n",
    "evaluate_clf(tre_clf, features, labels)\n",
    "evaluate_clf(knn_clf, features, labels)\n",
    "evaluate_clf(pe_clf, features, labels)\n",
    "evaluate_clf(mlp_clf, features, labels)"
   ]
  },
  {
   "cell_type": "markdown",
   "metadata": {},
   "source": [
    "### 5. Hyperparameters tuning"
   ]
  },
  {
   "cell_type": "code",
   "execution_count": 47,
   "metadata": {},
   "outputs": [],
   "source": [
    "from sklearn.model_selection import GridSearchCV\n",
    "import numpy as np"
   ]
  },
  {
   "cell_type": "markdown",
   "metadata": {},
   "source": [
    "#### 5.1 Decision tree"
   ]
  },
  {
   "cell_type": "raw",
   "metadata": {},
   "source": [
    "We select one of the best model from the evaluate function, in order to tune the hyperparameters. \n",
    "As a reminder, here are the results obtained without tuning :\n",
    "    precision: 0.4703893550893551\n",
    "    recall:    0.45136847041847045\n",
    "    accuracy:    0.858238095238095\n",
    "\n",
    "First, we create a pipeline to run a GridSearch on the select K best as to find the best features selection number."
   ]
  },
  {
   "cell_type": "code",
   "execution_count": 48,
   "metadata": {},
   "outputs": [
    {
     "data": {
      "text/plain": [
       "GridSearchCV(cv=StratifiedShuffleSplit(n_splits=10, random_state=67, test_size=0.3,\n",
       "            train_size=None),\n",
       "             estimator=Pipeline(steps=[('select_features', SelectKBest()),\n",
       "                                       ('classifier',\n",
       "                                        DecisionTreeClassifier())]),\n",
       "             param_grid=[{'select_features__k': array([ 1,  2,  3,  4,  5,  6,  7,  8,  9, 10, 11, 12, 13, 14, 15, 16, 17,\n",
       "       18, 19])}],\n",
       "             scoring='f1')"
      ]
     },
     "execution_count": 48,
     "metadata": {},
     "output_type": "execute_result"
    }
   ],
   "source": [
    "n_features = np.arange(1, 20)\n",
    "my_feature_list = features_list +['fraction_to_poi','shared_receipt_poi_ratio','bonus_to_salary','bonus_to_total','direction','ratio_mess','exercised_stock_options_ratio']\n",
    "data = featureFormat(my_dataset, my_feature_list,sort_keys = True)\n",
    "labels, features = targetFeatureSplit(data)\n",
    "# Create a pipeline with feature selection and classification\n",
    "pipe_k1 = Pipeline([\n",
    "    ('select_features', SelectKBest()),\n",
    "    ('classifier',DecisionTreeClassifier())])\n",
    "param_grid = [\n",
    "    {\n",
    "        'select_features__k': n_features\n",
    "    }\n",
    "]\n",
    "\n",
    "# Use GridSearchCV to automate the process of finding the optimal number of features\n",
    "\n",
    "cv = StratifiedShuffleSplit(n_splits=10, test_size=0.3, random_state=67)\n",
    "k_clf= GridSearchCV(pipe_k1, param_grid=param_grid, scoring='f1', cv = cv)\n",
    "k_clf.fit(features, labels)"
   ]
  },
  {
   "cell_type": "code",
   "execution_count": 49,
   "metadata": {},
   "outputs": [
    {
     "data": {
      "text/plain": [
       "0.6104396910279264"
      ]
     },
     "execution_count": 49,
     "metadata": {},
     "output_type": "execute_result"
    }
   ],
   "source": [
    "k_clf.best_score_"
   ]
  },
  {
   "cell_type": "code",
   "execution_count": 50,
   "metadata": {},
   "outputs": [
    {
     "data": {
      "text/plain": [
       "Pipeline(steps=[('select_features', SelectKBest(k=17)),\n",
       "                ('classifier', DecisionTreeClassifier())])"
      ]
     },
     "execution_count": 50,
     "metadata": {},
     "output_type": "execute_result"
    }
   ],
   "source": [
    "k_clf.best_score_\n",
    "k_clf.best_estimator_"
   ]
  },
  {
   "cell_type": "code",
   "execution_count": 51,
   "metadata": {},
   "outputs": [],
   "source": [
    "num_features=19"
   ]
  },
  {
   "cell_type": "code",
   "execution_count": 52,
   "metadata": {},
   "outputs": [
    {
     "name": "stdout",
     "output_type": "stream",
     "text": [
      "[3.57816913e+01 6.23357612e-02 1.69571949e+01 2.20445373e+00\n",
      " 2.65605672e+01 6.27032312e+00 7.00482086e+00 1.25623996e+01\n",
      " 7.79759949e+00 1.03730946e+01 6.76455637e-02 2.51041513e+01\n",
      " 9.53332413e+00 2.64658715e+01 9.40072407e-01 1.58934237e+01\n",
      " 3.82537238e+00 1.65350818e+01 6.39951658e+00 2.58998284e+01\n",
      " 2.66240943e+01 1.67813465e+01 2.06120518e+01 2.78013676e+01\n",
      " 1.41779001e+01 2.19449948e-02]\n",
      "19 best features: dict_keys(['bonus', 'direction', 'shared_receipt_poi_ratio', 'exercised_stock_options', 'total_stock_value', 'fraction_to_poi', 'salary', 'bonus_to_total', 'deferred_income', 'bonus_to_salary', 'shared_receipt_with_poi', 'from_poi_to_this_person', 'ratio_mess', 'long_term_incentive', 'restricted_stock', 'total_payments', 'other', 'loan_advances', 'to_messages'])\n",
      "\n"
     ]
    }
   ],
   "source": [
    "best_features = get_k_best(my_dataset, my_feature_list, num_features)\n",
    "my_feature_list = [target_label] + list(set(best_features.keys()))"
   ]
  },
  {
   "cell_type": "code",
   "execution_count": 53,
   "metadata": {},
   "outputs": [],
   "source": [
    "data = featureFormat(my_dataset, my_feature_list,sort_keys = True)\n",
    "labels, features = targetFeatureSplit(data)"
   ]
  },
  {
   "cell_type": "raw",
   "metadata": {},
   "source": [
    "The best number of features is 19.\n",
    "Now we are interested in the internal parameters of the decision tree.\n",
    "Then, we launch a new search grid where we test differents parameters as : \n",
    "- criterion\n",
    "- max depth\n",
    "- min samples split\n",
    "- min samples leaf \n",
    "The grid search is scored based on the f1 result in order to optimize the recall and the precision."
   ]
  },
  {
   "cell_type": "code",
   "execution_count": 54,
   "metadata": {},
   "outputs": [
    {
     "data": {
      "text/plain": [
       "DecisionTreeClassifier(min_samples_leaf=6, min_samples_split=20)"
      ]
     },
     "execution_count": 54,
     "metadata": {},
     "output_type": "execute_result"
    }
   ],
   "source": [
    "clf_parameters = { 'criterion': ['gini', 'entropy'],\n",
    "                   'max_depth': [None, 1, 2, 4, 5, 10, 15, 20],\n",
    "                   'min_samples_split': [2, 4, 6, 8, 10, 20, 30, 40],\n",
    "                   'min_samples_leaf': [1, 2, 3, 4, 5, 6, 7, 8, 10, 20, 30] }\n",
    "\n",
    "cv = StratifiedShuffleSplit(n_splits=5, test_size=0.3, random_state=67)\n",
    "clf = GridSearchCV(DecisionTreeClassifier(), param_grid = clf_parameters, cv = cv, scoring = 'f1')\n",
    "clf.fit(features,labels)\n",
    "\n",
    "clf.best_estimator_"
   ]
  },
  {
   "cell_type": "code",
   "execution_count": 55,
   "metadata": {},
   "outputs": [
    {
     "data": {
      "text/plain": [
       "{'criterion': 'gini',\n",
       " 'max_depth': None,\n",
       " 'min_samples_leaf': 6,\n",
       " 'min_samples_split': 20}"
      ]
     },
     "execution_count": 55,
     "metadata": {},
     "output_type": "execute_result"
    }
   ],
   "source": [
    "clf.best_params_"
   ]
  },
  {
   "cell_type": "raw",
   "metadata": {},
   "source": [
    "The best parameters are : {'criterion': 'gini',\n",
    " 'max_depth': None,\n",
    " 'min_samples_leaf': 1,\n",
    " 'min_samples_split': 20}\n",
    " We therefore launch the evaluation of our model."
   ]
  },
  {
   "cell_type": "code",
   "execution_count": 56,
   "metadata": {},
   "outputs": [],
   "source": [
    "clf_best_tree=DecisionTreeClassifier(criterion= 'gini',\n",
    " max_depth = None,\n",
    " min_samples_leaf = 1,\n",
    " min_samples_split = 20)"
   ]
  },
  {
   "cell_type": "code",
   "execution_count": 57,
   "metadata": {},
   "outputs": [
    {
     "name": "stdout",
     "output_type": "stream",
     "text": [
      "DecisionTreeClassifier(min_samples_split=20)\n",
      "\n",
      "Processing....................................................................................................done.\n",
      "\n",
      "precision: 0.4739386715151034\n",
      "recall:    0.5767123376623376\n",
      "accuracy:    0.8627380952380954\n"
     ]
    },
    {
     "data": {
      "text/plain": [
       "42"
      ]
     },
     "execution_count": 57,
     "metadata": {},
     "output_type": "execute_result"
    }
   ],
   "source": [
    "evaluate_clf(clf_best_tree,features,labels)"
   ]
  },
  {
   "cell_type": "raw",
   "metadata": {},
   "source": [
    "With this evaluation, we have a result of : \n",
    "    precision: 0.4970781787656788\n",
    "    recall:    0.6162624458874459\n",
    "    accuracy:    0.8779761904761906\n",
    "Now we can test with the tester made by our excellent teacher."
   ]
  },
  {
   "cell_type": "code",
   "execution_count": 58,
   "metadata": {},
   "outputs": [
    {
     "name": "stdout",
     "output_type": "stream",
     "text": [
      "DecisionTreeClassifier(min_samples_split=20)\n",
      "\tAccuracy: 0.87986\tPrecision: 0.60115\tRecall: 0.47250\tF1: 0.52912\tF2: 0.49363\n",
      "\tTotal predictions: 14000\tTrue positives:  945\tFalse positives:  627\tFalse negatives: 1055\tTrue negatives: 11373\n",
      "\n"
     ]
    }
   ],
   "source": [
    "import tester\n",
    "tester.dump_classifier_and_data(clf_best_tree , my_dataset, my_feature_list)\n",
    "tester.main()"
   ]
  },
  {
   "cell_type": "raw",
   "metadata": {},
   "source": [
    "With the tester, we gain in precision however at the same time we lost in recall. \n",
    "Our result :\n",
    "Accuracy: 0.88864\tPrecision: 0.67971\tRecall: 0.41700 F1: 0.51689\tF2: 0.45193"
   ]
  },
  {
   "cell_type": "markdown",
   "metadata": {},
   "source": [
    "#### 5.2 Log Regression"
   ]
  },
  {
   "cell_type": "raw",
   "metadata": {},
   "source": [
    "We have identified that logistic regression is the one of the most efficient model with our dataset. We want to do hyperparameter tuning in order to improve our results. First of all, we want to analyze the best number of parameters to feed our model. Therefore we create a pipeline with a selectKbest with as parameters the numbers of features."
   ]
  },
  {
   "cell_type": "code",
   "execution_count": 59,
   "metadata": {},
   "outputs": [],
   "source": [
    "from sklearn.preprocessing import MinMaxScaler\n",
    "from sklearn.preprocessing import RobustScaler\n",
    "import numpy as np\n",
    "from sklearn.metrics import f1_score\n",
    "from sklearn.metrics import make_scorer\n",
    "from sklearn.preprocessing import PolynomialFeatures\n",
    "from sklearn.model_selection import GridSearchCV"
   ]
  },
  {
   "cell_type": "code",
   "execution_count": 60,
   "metadata": {},
   "outputs": [
    {
     "data": {
      "text/plain": [
       "GridSearchCV(cv=10,\n",
       "             estimator=Pipeline(steps=[('select_features', SelectKBest()),\n",
       "                                       ('classifier',\n",
       "                                        DecisionTreeClassifier())]),\n",
       "             param_grid=[{'select_features__k': array([ 1,  2,  3,  4,  5,  6,  7,  8,  9, 10, 11, 12, 13, 14, 15, 16, 17,\n",
       "       18, 19])}],\n",
       "             scoring='f1')"
      ]
     },
     "execution_count": 60,
     "metadata": {},
     "output_type": "execute_result"
    }
   ],
   "source": [
    "n_features = np.arange(1, 20)\n",
    "my_feature_list = features_list +['fraction_to_poi','shared_receipt_poi_ratio','bonus_to_salary','bonus_to_total','direction','ratio_mess','exercised_stock_options_ratio']\n",
    "data = featureFormat(my_dataset, my_feature_list,sort_keys = True)\n",
    "labels, features = targetFeatureSplit(data)\n",
    "# Create a pipeline with feature selection and classification\n",
    "pipe_k = Pipeline([\n",
    "    ('scaler', StandardScaler()),\n",
    "    ('select_features', SelectKBest()),\n",
    "    ('classifier', LogisticRegression())])\n",
    "param_grid = [\n",
    "    {\n",
    "        'select_features__k': n_features\n",
    "    }\n",
    "]\n",
    "\n",
    "# Use GridSearchCV to automate the process of finding the optimal number of features\n",
    "cv = StratifiedShuffleSplit(n_splits=10, test_size=0.3, random_state=67)\n",
    "k_lcf= GridSearchCV(pipe_k, param_grid=param_grid, scoring='f1', cv = cv)\n",
    "k_lcf.fit(features, labels)\n",
    "\n",
    "# Use GridSearchCV to automate the process of finding the optimal number of features\n",
    "\n",
    "cv = StratifiedShuffleSplit(n_splits=10, test_size=0.3, random_state=67)\n",
    "k_clf= GridSearchCV(pipe_k1, param_grid=param_grid, scoring='f1', cv = 10)\n",
    "k_clf.fit(features, labels)"
   ]
  },
  {
   "cell_type": "code",
   "execution_count": 61,
   "metadata": {},
   "outputs": [
    {
     "data": {
      "text/plain": [
       "Pipeline(steps=[('scaler', StandardScaler()),\n",
       "                ('select_features', SelectKBest(k=7)),\n",
       "                ('classifier', LogisticRegression())])"
      ]
     },
     "execution_count": 61,
     "metadata": {},
     "output_type": "execute_result"
    }
   ],
   "source": [
    "k_lcf.best_score_\n",
    "k_lcf.best_estimator_"
   ]
  },
  {
   "cell_type": "raw",
   "metadata": {},
   "source": [
    "As we can see, the best results appear with 7 features.\n",
    "Now we are interested in the internal parameters of the logistic regression."
   ]
  },
  {
   "cell_type": "code",
   "execution_count": 62,
   "metadata": {},
   "outputs": [],
   "source": [
    "num_features=7"
   ]
  },
  {
   "cell_type": "code",
   "execution_count": 63,
   "metadata": {},
   "outputs": [
    {
     "name": "stdout",
     "output_type": "stream",
     "text": [
      "[3.57816913e+01 6.23357612e-02 1.69571949e+01 2.20445373e+00\n",
      " 2.65605672e+01 6.27032312e+00 7.00482086e+00 1.25623996e+01\n",
      " 7.79759949e+00 1.03730946e+01 6.76455637e-02 2.51041513e+01\n",
      " 9.53332413e+00 2.64658715e+01 9.40072407e-01 1.58934237e+01\n",
      " 3.82537238e+00 1.65350818e+01 6.39951658e+00 2.58998284e+01\n",
      " 2.66240943e+01 1.67813465e+01 2.06120518e+01 2.78013676e+01\n",
      " 1.41779001e+01 2.19449948e-02]\n",
      "7 best features: dict_keys(['bonus', 'direction', 'shared_receipt_poi_ratio', 'exercised_stock_options', 'total_stock_value', 'fraction_to_poi', 'salary'])\n",
      "\n"
     ]
    }
   ],
   "source": [
    "best_features = get_k_best(my_dataset, my_feature_list, num_features)\n",
    "my_feature_list = [target_label] + list(set(best_features.keys()))"
   ]
  },
  {
   "cell_type": "code",
   "execution_count": 64,
   "metadata": {},
   "outputs": [],
   "source": [
    "data = featureFormat(my_dataset, my_feature_list,sort_keys = True)\n",
    "labels, features = targetFeatureSplit(data)"
   ]
  },
  {
   "cell_type": "code",
   "execution_count": 65,
   "metadata": {},
   "outputs": [],
   "source": [
    "pipe_log = Pipeline([\n",
    "    ('scaler', StandardScaler()),\n",
    "    ('classifier', LogisticRegression())])"
   ]
  },
  {
   "cell_type": "raw",
   "metadata": {},
   "source": [
    "Now we are interested in the internal parameters of the logistic regression.\n",
    "Then, we launch a new search grid where we test differents parameters as : \n",
    "- solvers\n",
    "- penalty\n",
    "- c_values\n",
    "- class weight\n",
    "- multi class\n",
    "The grid search is scored based on the f1 result in order to optimize the recall and the precision."
   ]
  },
  {
   "cell_type": "code",
   "execution_count": 66,
   "metadata": {},
   "outputs": [],
   "source": [
    "# define models and parameters\n",
    "\n",
    "solvers = ['newton-cg', 'lbfgs', 'liblinear']\n",
    "penalty = [\"l1\",\"l2\",\"elasticnet\",\"none\"]\n",
    "c_values = np.logspace(-4, 4, 50)\n",
    "class_weight=['balanced',None]\n",
    "multi_class=[\"ovr\"]\n",
    "\n",
    "# define grid search\n",
    "grid = dict(classifier__solver=solvers,classifier__penalty=penalty,classifier__C=c_values,classifier__class_weight=class_weight,classifier__multi_class=multi_class)\n",
    "cv = StratifiedShuffleSplit(n_splits=5, test_size=0.3, train_size=0.7,random_state=1)\n",
    "grid_search = GridSearchCV(estimator=pipe_log, param_grid=grid, n_jobs=-1, cv=cv,scoring = 'f1')\n",
    "grid_result = grid_search.fit(features, labels)"
   ]
  },
  {
   "cell_type": "code",
   "execution_count": 67,
   "metadata": {},
   "outputs": [
    {
     "data": {
      "text/plain": [
       "Pipeline(steps=[('scaler', StandardScaler()),\n",
       "                ('classifier',\n",
       "                 LogisticRegression(C=0.009102981779915217, multi_class='ovr',\n",
       "                                    solver='liblinear'))])"
      ]
     },
     "execution_count": 67,
     "metadata": {},
     "output_type": "execute_result"
    }
   ],
   "source": [
    "grid_result.best_estimator_"
   ]
  },
  {
   "cell_type": "code",
   "execution_count": 68,
   "metadata": {},
   "outputs": [
    {
     "data": {
      "text/plain": [
       "{'classifier__C': 0.009102981779915217,\n",
       " 'classifier__class_weight': None,\n",
       " 'classifier__multi_class': 'ovr',\n",
       " 'classifier__penalty': 'l2',\n",
       " 'classifier__solver': 'liblinear'}"
      ]
     },
     "execution_count": 68,
     "metadata": {},
     "output_type": "execute_result"
    }
   ],
   "source": [
    "grid_result.best_params_"
   ]
  },
  {
   "cell_type": "raw",
   "metadata": {},
   "source": [
    "The best parameters are : {'C': 0.009102981779915217,\n",
    " 'class weight': None,\n",
    " 'multi_class': 'ovr',\n",
    " 'penalty': 12,\n",
    " 'solver': liblinear }\n",
    " We therefore launch the evaluation of our model."
   ]
  },
  {
   "cell_type": "code",
   "execution_count": 69,
   "metadata": {},
   "outputs": [],
   "source": [
    "clf_best_log_f1=Pipeline(steps=[('std_slc', StandardScaler()),\n",
    "                ('logistic_Reg',\n",
    "                 LogisticRegression(C=0.009102981779915217,\n",
    "                                    class_weight=None, multi_class='ovr',penalty= 'l2',\n",
    "                                    solver='liblinear', tol=0.001))])"
   ]
  },
  {
   "cell_type": "markdown",
   "metadata": {},
   "source": [
    "Then we run the evaluate with our tunes parameters "
   ]
  },
  {
   "cell_type": "code",
   "execution_count": 70,
   "metadata": {},
   "outputs": [
    {
     "name": "stdout",
     "output_type": "stream",
     "text": [
      "Pipeline(steps=[('std_slc', StandardScaler()),\n",
      "                ('logistic_Reg',\n",
      "                 LogisticRegression(C=0.009102981779915217, multi_class='ovr',\n",
      "                                    solver='liblinear', tol=0.001))])\n",
      "\n",
      "Processing....................................................................................................done.\n",
      "\n",
      "precision: 0.55062277999778\n",
      "recall:    0.6029732323232323\n",
      "accuracy:    0.8737619047619049\n"
     ]
    },
    {
     "data": {
      "text/plain": [
       "42"
      ]
     },
     "execution_count": 70,
     "metadata": {},
     "output_type": "execute_result"
    }
   ],
   "source": [
    "evaluate_clf(clf_best_log_f1,features,labels)"
   ]
  },
  {
   "cell_type": "raw",
   "metadata": {},
   "source": [
    "With this evaluation, we have a result of : \n",
    "    precision: 0.5337182012432011\n",
    "    recall:    0.6074877344877344\n",
    "    accuracy:    0.8709285714285716\n",
    "Now we can test with the tester made by our excellent teacher."
   ]
  },
  {
   "cell_type": "code",
   "execution_count": 71,
   "metadata": {},
   "outputs": [
    {
     "name": "stdout",
     "output_type": "stream",
     "text": [
      "Pipeline(steps=[('std_slc', StandardScaler()),\n",
      "                ('logistic_Reg',\n",
      "                 LogisticRegression(C=0.009102981779915217, multi_class='ovr',\n",
      "                                    solver='liblinear', tol=0.001))])\n",
      "\tAccuracy: 0.88736\tPrecision: 0.60302\tRecall: 0.61900\tF1: 0.61091\tF2: 0.61574\n",
      "\tTotal predictions: 14000\tTrue positives: 1238\tFalse positives:  815\tFalse negatives:  762\tTrue negatives: 11185\n",
      "\n"
     ]
    }
   ],
   "source": [
    "import tester\n",
    "tester.dump_classifier_and_data(clf_best_log_f1 , my_dataset, my_feature_list)\n",
    "tester.main()"
   ]
  },
  {
   "cell_type": "markdown",
   "metadata": {},
   "source": [
    "With the tester, we gain in precision however at the same time we lost in recall. \n",
    "Our result :\n",
    "Accuracy: 0.88736\tPrecision: 0.60302\tRecall: 0.61900\tF1: 0.61091\tF2: 0.6157"
   ]
  },
  {
   "cell_type": "markdown",
   "metadata": {},
   "source": [
    "#### Percetron"
   ]
  },
  {
   "cell_type": "code",
   "execution_count": 72,
   "metadata": {},
   "outputs": [
    {
     "data": {
      "text/plain": [
       "GridSearchCV(cv=StratifiedShuffleSplit(n_splits=10, random_state=67, test_size=0.3,\n",
       "            train_size=None),\n",
       "             estimator=Pipeline(steps=[('scaler', MinMaxScaler()),\n",
       "                                       ('select_features', SelectKBest()),\n",
       "                                       ('classifier', Perceptron())]),\n",
       "             param_grid=[{'select_features__k': array([ 1,  2,  3,  4,  5,  6,  7,  8,  9, 10, 11, 12, 13, 14, 15, 16, 17,\n",
       "       18, 19])}],\n",
       "             scoring='f1')"
      ]
     },
     "execution_count": 72,
     "metadata": {},
     "output_type": "execute_result"
    }
   ],
   "source": [
    "n_features = np.arange(1, 20)\n",
    "my_feature_list = features_list +['fraction_to_poi','shared_receipt_poi_ratio','bonus_to_salary','bonus_to_total','direction','ratio_mess','exercised_stock_options_ratio']\n",
    "data = featureFormat(my_dataset, my_feature_list,sort_keys = True)\n",
    "labels, features = targetFeatureSplit(data)\n",
    "# Create a pipeline with feature selection and classification\n",
    "pipe_p = Pipeline([\n",
    "    ('scaler', preprocessing.MinMaxScaler()),\n",
    "    ('select_features', SelectKBest()),\n",
    "    ('classifier', Perceptron())])\n",
    "param_grid = [\n",
    "    {\n",
    "        'select_features__k': n_features\n",
    "    }]\n",
    "\n",
    "# Use GridSearchCV to automate the process of finding the optimal number of features\n",
    "cv = StratifiedShuffleSplit(n_splits=10, test_size=0.3, random_state=67)\n",
    "k_lcf= GridSearchCV(pipe_p, param_grid=param_grid, scoring='f1', cv = cv)\n",
    "k_lcf.fit(features, labels)\n"
   ]
  },
  {
   "cell_type": "code",
   "execution_count": 73,
   "metadata": {},
   "outputs": [
    {
     "data": {
      "text/plain": [
       "{'select_features__k': 11}"
      ]
     },
     "execution_count": 73,
     "metadata": {},
     "output_type": "execute_result"
    }
   ],
   "source": [
    "k_lcf.best_score_\n",
    "k_lcf.best_params_"
   ]
  },
  {
   "cell_type": "raw",
   "metadata": {},
   "source": [
    "As we can see, the best results appear with 11 features.\n",
    "Now we are interested in the internal parameters of the logistic regression."
   ]
  },
  {
   "cell_type": "code",
   "execution_count": 74,
   "metadata": {},
   "outputs": [],
   "source": [
    "num_features=11"
   ]
  },
  {
   "cell_type": "code",
   "execution_count": 75,
   "metadata": {},
   "outputs": [
    {
     "name": "stdout",
     "output_type": "stream",
     "text": [
      "[3.57816913e+01 6.23357612e-02 1.69571949e+01 2.20445373e+00\n",
      " 2.65605672e+01 6.27032312e+00 7.00482086e+00 1.25623996e+01\n",
      " 7.79759949e+00 1.03730946e+01 6.76455637e-02 2.51041513e+01\n",
      " 9.53332413e+00 2.64658715e+01 9.40072407e-01 1.58934237e+01\n",
      " 3.82537238e+00 1.65350818e+01 6.39951658e+00 2.58998284e+01\n",
      " 2.66240943e+01 1.67813465e+01 2.06120518e+01 2.78013676e+01\n",
      " 1.41779001e+01 2.19449948e-02]\n",
      "11 best features: dict_keys(['bonus', 'direction', 'shared_receipt_poi_ratio', 'exercised_stock_options', 'total_stock_value', 'fraction_to_poi', 'salary', 'bonus_to_total', 'deferred_income', 'bonus_to_salary', 'shared_receipt_with_poi'])\n",
      "\n"
     ]
    }
   ],
   "source": [
    "best_features = get_k_best(my_dataset, my_feature_list, num_features)\n",
    "my_feature_list = [target_label] + list(set(best_features.keys()))"
   ]
  },
  {
   "cell_type": "code",
   "execution_count": 76,
   "metadata": {},
   "outputs": [],
   "source": [
    "data = featureFormat(my_dataset, my_feature_list,sort_keys = True)\n",
    "labels, features = targetFeatureSplit(data)"
   ]
  },
  {
   "cell_type": "code",
   "execution_count": 77,
   "metadata": {},
   "outputs": [],
   "source": [
    "pipe_per = Pipeline([\n",
    "    ('scaler', preprocessing.MinMaxScaler()),\n",
    "    ('classifier', Perceptron())])"
   ]
  },
  {
   "cell_type": "code",
   "execution_count": 78,
   "metadata": {},
   "outputs": [],
   "source": [
    "# define models and parameters\n",
    "\n",
    "penalty = [\"l1\",\"l2\",\"elasticnet\",\"none\"]\n",
    "alpha = np.logspace(-4, 4, 50)\n",
    "fit_intercept = [True, False]\n",
    "shuffle = [True, False]\n",
    "class_weight=['balanced',None]\n",
    "\n",
    "# define grid search\n",
    "grid = dict(classifier__penalty=penalty,classifier__alpha=alpha,classifier__class_weight=class_weight,classifier__shuffle=shuffle,classifier__fit_intercept=fit_intercept)\n",
    "cv = StratifiedShuffleSplit(n_splits=5, test_size=0.3, train_size=0.7,random_state=1)\n",
    "grid_search = GridSearchCV(estimator=pipe_per, param_grid=grid, n_jobs=-1, cv=cv,scoring = 'f1')\n",
    "grid_result = grid_search.fit(features, labels)"
   ]
  },
  {
   "cell_type": "code",
   "execution_count": 79,
   "metadata": {},
   "outputs": [
    {
     "data": {
      "text/plain": [
       "Pipeline(steps=[('scaler', MinMaxScaler()),\n",
       "                ('classifier',\n",
       "                 Perceptron(alpha=0.0020235896477251557, penalty='l1',\n",
       "                            shuffle=False))])"
      ]
     },
     "execution_count": 79,
     "metadata": {},
     "output_type": "execute_result"
    }
   ],
   "source": [
    "grid_result.best_estimator_"
   ]
  },
  {
   "cell_type": "code",
   "execution_count": 80,
   "metadata": {},
   "outputs": [
    {
     "data": {
      "text/plain": [
       "{'classifier__alpha': 0.0020235896477251557,\n",
       " 'classifier__class_weight': None,\n",
       " 'classifier__fit_intercept': True,\n",
       " 'classifier__penalty': 'l1',\n",
       " 'classifier__shuffle': False}"
      ]
     },
     "execution_count": 80,
     "metadata": {},
     "output_type": "execute_result"
    }
   ],
   "source": [
    "grid_result.best_params_"
   ]
  },
  {
   "cell_type": "code",
   "execution_count": 81,
   "metadata": {},
   "outputs": [],
   "source": [
    "clf_best_per_f1=Pipeline(steps=[('scaler', MinMaxScaler()),\n",
    "                ('classifier',\n",
    "                 Perceptron(alpha=0.0020235896477251557, penalty='l1',\n",
    "                            shuffle=False))])"
   ]
  },
  {
   "cell_type": "code",
   "execution_count": 82,
   "metadata": {},
   "outputs": [
    {
     "name": "stdout",
     "output_type": "stream",
     "text": [
      "Pipeline(steps=[('scaler', MinMaxScaler()),\n",
      "                ('classifier',\n",
      "                 Perceptron(alpha=0.0020235896477251557, penalty='l1',\n",
      "                            shuffle=False))])\n",
      "\n",
      "Processing....................................................................................................done.\n",
      "\n",
      "precision: 0.46132189160545145\n",
      "recall:    0.42249480519480515\n",
      "accuracy:    0.8379523809523811\n"
     ]
    },
    {
     "data": {
      "text/plain": [
       "42"
      ]
     },
     "execution_count": 82,
     "metadata": {},
     "output_type": "execute_result"
    }
   ],
   "source": [
    "evaluate_clf(clf_best_per_f1,features,labels)"
   ]
  },
  {
   "cell_type": "code",
   "execution_count": 83,
   "metadata": {},
   "outputs": [
    {
     "name": "stdout",
     "output_type": "stream",
     "text": [
      "Pipeline(steps=[('scaler', MinMaxScaler()),\n",
      "                ('classifier',\n",
      "                 Perceptron(alpha=0.0020235896477251557, penalty='l1',\n",
      "                            shuffle=False))])\n",
      "\tAccuracy: 0.83729\tPrecision: 0.42462\tRecall: 0.39150\tF1: 0.40739\tF2: 0.39770\n",
      "\tTotal predictions: 14000\tTrue positives:  783\tFalse positives: 1061\tFalse negatives: 1217\tTrue negatives: 10939\n",
      "\n"
     ]
    }
   ],
   "source": [
    "import tester\n",
    "tester.dump_classifier_and_data(clf_best_per_f1, my_dataset, my_feature_list)\n",
    "tester.main()"
   ]
  },
  {
   "cell_type": "markdown",
   "metadata": {},
   "source": [
    "Best model after parameters tunning :    \n",
    "    Logistic regression with 11 features. "
   ]
  },
  {
   "cell_type": "markdown",
   "metadata": {},
   "source": [
    "#### 5.4 Try staking the 2 models"
   ]
  },
  {
   "cell_type": "code",
   "execution_count": 84,
   "metadata": {},
   "outputs": [],
   "source": [
    "#pip install mlxtend  "
   ]
  },
  {
   "cell_type": "code",
   "execution_count": 85,
   "metadata": {},
   "outputs": [],
   "source": [
    "from mlxtend.classifier import StackingClassifier"
   ]
  },
  {
   "cell_type": "code",
   "execution_count": 86,
   "metadata": {},
   "outputs": [],
   "source": [
    "num_features=7"
   ]
  },
  {
   "cell_type": "code",
   "execution_count": 87,
   "metadata": {},
   "outputs": [
    {
     "name": "stdout",
     "output_type": "stream",
     "text": [
      "[26.6240943  27.80136756 26.46587154 26.5605672  25.10415132 35.7816913\n",
      " 25.89982841 20.61205177 16.53508177 16.95719491 16.78134655]\n",
      "7 best features: dict_keys(['bonus', 'direction', 'shared_receipt_poi_ratio', 'exercised_stock_options', 'total_stock_value', 'fraction_to_poi', 'salary'])\n",
      "\n"
     ]
    }
   ],
   "source": [
    "best_features = get_k_best(my_dataset, my_feature_list, num_features)\n",
    "my_feature_list = [target_label] + list(set(best_features.keys()))"
   ]
  },
  {
   "cell_type": "code",
   "execution_count": 88,
   "metadata": {},
   "outputs": [],
   "source": [
    "m_clf = StackingClassifier(classifiers=[clf_best_log_f1,clf_best_tree,clf_best_per_f1],use_probas=False,meta_classifier=clf_best_log_f1)"
   ]
  },
  {
   "cell_type": "code",
   "execution_count": 89,
   "metadata": {},
   "outputs": [
    {
     "name": "stdout",
     "output_type": "stream",
     "text": [
      "StackingClassifier(classifiers=[Pipeline(steps=[('std_slc', StandardScaler()),\n",
      "                                                ('logistic_Reg',\n",
      "                                                 LogisticRegression(C=0.009102981779915217,\n",
      "                                                                    multi_class='ovr',\n",
      "                                                                    solver='liblinear',\n",
      "                                                                    tol=0.001))]),\n",
      "                                DecisionTreeClassifier(min_samples_split=20),\n",
      "                                Pipeline(steps=[('scaler', MinMaxScaler()),\n",
      "                                                ('classifier',\n",
      "                                                 Perceptron(alpha=0.0020235896477251557,\n",
      "                                                            penalty='l1',\n",
      "                                                            shuffle=False))])],\n",
      "                   meta_classifier=Pipeline(steps=[('std_slc',\n",
      "                                                    StandardScaler()),\n",
      "                                                   ('logistic_Reg',\n",
      "                                                    LogisticRegression(C=0.009102981779915217,\n",
      "                                                                       multi_class='ovr',\n",
      "                                                                       solver='liblinear',\n",
      "                                                                       tol=0.001))]))\n",
      "\n",
      "Processing....................................................................................................done.\n",
      "\n",
      "precision: 0.5221549284049284\n",
      "recall:    0.6436698412698413\n",
      "accuracy:    0.8690476190476192\n"
     ]
    },
    {
     "data": {
      "text/plain": [
       "42"
      ]
     },
     "execution_count": 89,
     "metadata": {},
     "output_type": "execute_result"
    }
   ],
   "source": [
    "evaluate_clf(m_clf,features,labels)"
   ]
  },
  {
   "cell_type": "code",
   "execution_count": 90,
   "metadata": {},
   "outputs": [
    {
     "name": "stdout",
     "output_type": "stream",
     "text": [
      "StackingClassifier(classifiers=[Pipeline(steps=[('std_slc', StandardScaler()),\n",
      "                                                ('logistic_Reg',\n",
      "                                                 LogisticRegression(C=0.009102981779915217,\n",
      "                                                                    multi_class='ovr',\n",
      "                                                                    solver='liblinear',\n",
      "                                                                    tol=0.001))]),\n",
      "                                DecisionTreeClassifier(min_samples_split=20),\n",
      "                                Pipeline(steps=[('scaler', MinMaxScaler()),\n",
      "                                                ('classifier',\n",
      "                                                 Perceptron(alpha=0.0020235896477251557,\n",
      "                                                            penalty='l1',\n",
      "                                                            shuffle=False))])],\n",
      "                   meta_classifier=Pipeline(steps=[('std_slc',\n",
      "                                                    StandardScaler()),\n",
      "                                                   ('logistic_Reg',\n",
      "                                                    LogisticRegression(C=0.009102981779915217,\n",
      "                                                                       multi_class='ovr',\n",
      "                                                                       solver='liblinear',\n",
      "                                                                       tol=0.001))]))\n",
      "\tAccuracy: 0.86971\tPrecision: 0.54207\tRecall: 0.56700\tF1: 0.55425\tF2: 0.56183\n",
      "\tTotal predictions: 14000\tTrue positives: 1134\tFalse positives:  958\tFalse negatives:  866\tTrue negatives: 11042\n",
      "\n"
     ]
    }
   ],
   "source": [
    "import tester\n",
    "tester.dump_classifier_and_data(m_clf, my_dataset, my_feature_list)\n",
    "tester.main()"
   ]
  },
  {
   "cell_type": "markdown",
   "metadata": {},
   "source": [
    "#### Our model selection : logistic regression "
   ]
  },
  {
   "cell_type": "markdown",
   "metadata": {},
   "source": [
    "Select Logistic Regression as final algorithm"
   ]
  },
  {
   "cell_type": "markdown",
   "metadata": {},
   "source": [
    "When we compare the result from the evaluate function and the tester, it seems that our logistic regression model has the best score after paramaters tuning. This result confirms the relevance of our pre-processing step. We don't think that we can increase anymore our recall and precision without more information about the dataset."
   ]
  },
  {
   "cell_type": "code",
   "execution_count": 91,
   "metadata": {},
   "outputs": [],
   "source": [
    "clf = clf_best_log_f1"
   ]
  },
  {
   "cell_type": "markdown",
   "metadata": {},
   "source": [
    "dump your classifier, dataset and features_list so   \n",
    "anyone can run/check your results"
   ]
  },
  {
   "cell_type": "code",
   "execution_count": 92,
   "metadata": {},
   "outputs": [],
   "source": [
    "pickle.dump(clf, open(\"../final_project/my_classifier.pkl\", \"wb\"))\n",
    "pickle.dump(my_dataset, open(\"../final_project/my_dataset.pkl\", \"wb\"))\n",
    "pickle.dump(my_feature_list, open(\"../final_project/my_feature_list.pkl\", \"wb\"))"
   ]
  },
  {
   "cell_type": "markdown",
   "metadata": {},
   "source": [
    "### Task 6: Dump your classifier, dataset, and features_list"
   ]
  },
  {
   "cell_type": "markdown",
   "metadata": {},
   "source": [
    "Task 6: Dump your classifier, dataset, and features_list so anyone can   \n",
    "check your results. You do not need to change anything below, but make sure  \n",
    "that the version of poi_id.py that you submit can be run on its own and   \n",
    "generates the necessary .pkl files for validating your results.  "
   ]
  },
  {
   "cell_type": "code",
   "execution_count": 93,
   "metadata": {},
   "outputs": [],
   "source": [
    "dump_classifier_and_data(clf, my_dataset, features_list)"
   ]
  },
  {
   "cell_type": "code",
   "execution_count": 94,
   "metadata": {},
   "outputs": [
    {
     "name": "stderr",
     "output_type": "stream",
     "text": [
      "[NbConvertApp] Converting notebook poi_id_notebook.ipynb to script\n",
      "[NbConvertApp] Writing 34330 bytes to poi_id_notebook.py\n"
     ]
    }
   ],
   "source": [
    "!jupyter nbconvert --to script *.ipynb"
   ]
  }
 ],
 "metadata": {
  "kernelspec": {
   "display_name": "Python 3",
   "language": "python",
   "name": "python3"
  },
  "language_info": {
   "codemirror_mode": {
    "name": "ipython",
    "version": 3
   },
   "file_extension": ".py",
   "mimetype": "text/x-python",
   "name": "python",
   "nbconvert_exporter": "python",
   "pygments_lexer": "ipython3",
   "version": "3.7.9"
  }
 },
 "nbformat": 4,
 "nbformat_minor": 4
}
